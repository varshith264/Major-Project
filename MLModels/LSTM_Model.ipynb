{
  "nbformat": 4,
  "nbformat_minor": 0,
  "metadata": {
    "colab": {
      "name": "Latest LSTM",
      "provenance": [],
      "collapsed_sections": []
    },
    "kernelspec": {
      "name": "python3",
      "display_name": "Python 3"
    },
    "language_info": {
      "name": "python"
    },
    "accelerator": "GPU"
  },
  "cells": [
    {
      "cell_type": "code",
      "execution_count": 1,
      "metadata": {
        "colab": {
          "base_uri": "https://localhost:8080/"
        },
        "id": "WJ3SGDkUU7yW",
        "outputId": "ebb121db-8952-47e8-f597-64585e34dadc"
      },
      "outputs": [
        {
          "output_type": "stream",
          "name": "stdout",
          "text": [
            "Mounted at /content/drive\n"
          ]
        }
      ],
      "source": [
        "from google.colab import drive\n",
        "drive.mount('/content/drive')"
      ]
    },
    {
      "cell_type": "code",
      "source": [
        "%tensorflow_version 2.x\n",
        "import json\n",
        "import requests\n",
        "from keras.models import Sequential\n",
        "from keras.layers import Activation, Dense, Dropout, LSTM, GRU\n",
        "import matplotlib.pyplot as plt\n",
        "import numpy as np\n",
        "import pandas as pd\n",
        "import seaborn as sns\n",
        "from sklearn.metrics import mean_absolute_error\n",
        "from datetime import date, timedelta\n",
        "import time\n",
        "import datetime\n",
        "from tensorflow import keras\n",
        "from keras.layers import Bidirectional\n",
        "from sklearn.metrics import mean_squared_error\n",
        "\n",
        "%matplotlib inline"
      ],
      "metadata": {
        "id": "PuyFCrg1VDfe"
      },
      "execution_count": 2,
      "outputs": []
    },
    {
      "cell_type": "code",
      "source": [
        "hist = pd.read_csv('/content/drive/MyDrive/S7 Project/BTC.csv')\n",
        "hist = hist.drop(['Number of trades'], axis=1)\n",
        "hist = hist.drop(['Close time'], axis=1)\n",
        "hist = hist.drop(['Quote asset volume'], axis=1)\n",
        "hist = hist.drop(['Taker buy base asset volume'], axis=1)\n",
        "hist = hist.drop(['Taker buy quote asset volume'], axis=1)\n",
        "# hist = hist.drop(['Volume'], axis=1)\n",
        "target_col = 'Close'\n",
        "hist['Open time'] = pd.to_datetime(hist['Open time']/1000, unit='s')\n",
        "hist = hist.set_index('Open time')"
      ],
      "metadata": {
        "id": "ur3BmLj5aAZv"
      },
      "execution_count": 3,
      "outputs": []
    },
    {
      "cell_type": "code",
      "source": [
        "hist"
      ],
      "metadata": {
        "colab": {
          "base_uri": "https://localhost:8080/",
          "height": 455
        },
        "id": "P9Uj-MDKaD0H",
        "outputId": "8cc5bee9-8fc8-4081-a480-0054b6536d52"
      },
      "execution_count": 4,
      "outputs": [
        {
          "output_type": "execute_result",
          "data": {
            "text/html": [
              "<div>\n",
              "<style scoped>\n",
              "    .dataframe tbody tr th:only-of-type {\n",
              "        vertical-align: middle;\n",
              "    }\n",
              "\n",
              "    .dataframe tbody tr th {\n",
              "        vertical-align: top;\n",
              "    }\n",
              "\n",
              "    .dataframe thead th {\n",
              "        text-align: right;\n",
              "    }\n",
              "</style>\n",
              "<table border=\"1\" class=\"dataframe\">\n",
              "  <thead>\n",
              "    <tr style=\"text-align: right;\">\n",
              "      <th></th>\n",
              "      <th>Open</th>\n",
              "      <th>High</th>\n",
              "      <th>Low</th>\n",
              "      <th>Close</th>\n",
              "      <th>Volume</th>\n",
              "    </tr>\n",
              "    <tr>\n",
              "      <th>Open time</th>\n",
              "      <th></th>\n",
              "      <th></th>\n",
              "      <th></th>\n",
              "      <th></th>\n",
              "      <th></th>\n",
              "    </tr>\n",
              "  </thead>\n",
              "  <tbody>\n",
              "    <tr>\n",
              "      <th>2017-08-17 04:00:00</th>\n",
              "      <td>4261.48</td>\n",
              "      <td>4280.56</td>\n",
              "      <td>4261.48</td>\n",
              "      <td>4261.48</td>\n",
              "      <td>2.189061</td>\n",
              "    </tr>\n",
              "    <tr>\n",
              "      <th>2017-08-17 04:15:00</th>\n",
              "      <td>4261.48</td>\n",
              "      <td>4270.41</td>\n",
              "      <td>4261.32</td>\n",
              "      <td>4261.45</td>\n",
              "      <td>9.119865</td>\n",
              "    </tr>\n",
              "    <tr>\n",
              "      <th>2017-08-17 04:30:00</th>\n",
              "      <td>4280.00</td>\n",
              "      <td>4310.07</td>\n",
              "      <td>4267.99</td>\n",
              "      <td>4310.07</td>\n",
              "      <td>21.923552</td>\n",
              "    </tr>\n",
              "    <tr>\n",
              "      <th>2017-08-17 04:45:00</th>\n",
              "      <td>4310.07</td>\n",
              "      <td>4313.62</td>\n",
              "      <td>4291.37</td>\n",
              "      <td>4308.83</td>\n",
              "      <td>13.948531</td>\n",
              "    </tr>\n",
              "    <tr>\n",
              "      <th>2017-08-17 05:00:00</th>\n",
              "      <td>4308.83</td>\n",
              "      <td>4328.69</td>\n",
              "      <td>4304.31</td>\n",
              "      <td>4304.31</td>\n",
              "      <td>5.101153</td>\n",
              "    </tr>\n",
              "    <tr>\n",
              "      <th>...</th>\n",
              "      <td>...</td>\n",
              "      <td>...</td>\n",
              "      <td>...</td>\n",
              "      <td>...</td>\n",
              "      <td>...</td>\n",
              "    </tr>\n",
              "    <tr>\n",
              "      <th>2021-09-27 17:15:00</th>\n",
              "      <td>43137.05</td>\n",
              "      <td>43240.01</td>\n",
              "      <td>42970.55</td>\n",
              "      <td>42981.75</td>\n",
              "      <td>313.482490</td>\n",
              "    </tr>\n",
              "    <tr>\n",
              "      <th>2021-09-27 17:30:00</th>\n",
              "      <td>42981.76</td>\n",
              "      <td>43157.33</td>\n",
              "      <td>42923.52</td>\n",
              "      <td>43083.49</td>\n",
              "      <td>293.079110</td>\n",
              "    </tr>\n",
              "    <tr>\n",
              "      <th>2021-09-27 17:45:00</th>\n",
              "      <td>43083.48</td>\n",
              "      <td>43113.71</td>\n",
              "      <td>42960.14</td>\n",
              "      <td>43049.47</td>\n",
              "      <td>218.085500</td>\n",
              "    </tr>\n",
              "    <tr>\n",
              "      <th>2021-09-27 18:00:00</th>\n",
              "      <td>43049.46</td>\n",
              "      <td>43213.32</td>\n",
              "      <td>43001.86</td>\n",
              "      <td>43186.82</td>\n",
              "      <td>253.036090</td>\n",
              "    </tr>\n",
              "    <tr>\n",
              "      <th>2021-09-27 18:15:00</th>\n",
              "      <td>43185.11</td>\n",
              "      <td>43198.97</td>\n",
              "      <td>43112.54</td>\n",
              "      <td>43161.45</td>\n",
              "      <td>183.536760</td>\n",
              "    </tr>\n",
              "  </tbody>\n",
              "</table>\n",
              "<p>143729 rows × 5 columns</p>\n",
              "</div>"
            ],
            "text/plain": [
              "                         Open      High       Low     Close      Volume\n",
              "Open time                                                              \n",
              "2017-08-17 04:00:00   4261.48   4280.56   4261.48   4261.48    2.189061\n",
              "2017-08-17 04:15:00   4261.48   4270.41   4261.32   4261.45    9.119865\n",
              "2017-08-17 04:30:00   4280.00   4310.07   4267.99   4310.07   21.923552\n",
              "2017-08-17 04:45:00   4310.07   4313.62   4291.37   4308.83   13.948531\n",
              "2017-08-17 05:00:00   4308.83   4328.69   4304.31   4304.31    5.101153\n",
              "...                       ...       ...       ...       ...         ...\n",
              "2021-09-27 17:15:00  43137.05  43240.01  42970.55  42981.75  313.482490\n",
              "2021-09-27 17:30:00  42981.76  43157.33  42923.52  43083.49  293.079110\n",
              "2021-09-27 17:45:00  43083.48  43113.71  42960.14  43049.47  218.085500\n",
              "2021-09-27 18:00:00  43049.46  43213.32  43001.86  43186.82  253.036090\n",
              "2021-09-27 18:15:00  43185.11  43198.97  43112.54  43161.45  183.536760\n",
              "\n",
              "[143729 rows x 5 columns]"
            ]
          },
          "metadata": {},
          "execution_count": 4
        }
      ]
    },
    {
      "cell_type": "code",
      "source": [
        "print(hist.iloc[4278])"
      ],
      "metadata": {
        "colab": {
          "base_uri": "https://localhost:8080/"
        },
        "id": "JPF5Aa4Zcl7O",
        "outputId": "dd2ca47b-6f1b-4441-f97b-a3fb550713bd"
      },
      "execution_count": 5,
      "outputs": [
        {
          "output_type": "stream",
          "name": "stdout",
          "text": [
            "Open      4378.490000\n",
            "High      4378.490000\n",
            "Low       4339.000000\n",
            "Close     4360.000000\n",
            "Volume      13.195468\n",
            "Name: 2017-10-01 00:00:00, dtype: float64\n"
          ]
        }
      ]
    },
    {
      "cell_type": "code",
      "source": [
        "print(hist.iloc[47891])"
      ],
      "metadata": {
        "colab": {
          "base_uri": "https://localhost:8080/"
        },
        "id": "KLv3VGroeBju",
        "outputId": "108c229e-20ad-44b3-eef4-57e24d7997ff"
      },
      "execution_count": 6,
      "outputs": [
        {
          "output_type": "stream",
          "name": "stdout",
          "text": [
            "Open      3688.940000\n",
            "High      3707.500000\n",
            "Low       3684.220000\n",
            "Close     3702.900000\n",
            "Volume     419.980955\n",
            "Name: 2018-12-31 23:45:00, dtype: float64\n"
          ]
        }
      ]
    },
    {
      "cell_type": "code",
      "source": [
        "hist = hist[4278:47892]"
      ],
      "metadata": {
        "id": "9OzXrnC4eiop"
      },
      "execution_count": 7,
      "outputs": []
    },
    {
      "cell_type": "code",
      "source": [
        "hist"
      ],
      "metadata": {
        "colab": {
          "base_uri": "https://localhost:8080/",
          "height": 455
        },
        "id": "Gy2Ouf7JezZd",
        "outputId": "a2e48189-7181-4490-ec83-194fb311cf55"
      },
      "execution_count": 8,
      "outputs": [
        {
          "output_type": "execute_result",
          "data": {
            "text/html": [
              "<div>\n",
              "<style scoped>\n",
              "    .dataframe tbody tr th:only-of-type {\n",
              "        vertical-align: middle;\n",
              "    }\n",
              "\n",
              "    .dataframe tbody tr th {\n",
              "        vertical-align: top;\n",
              "    }\n",
              "\n",
              "    .dataframe thead th {\n",
              "        text-align: right;\n",
              "    }\n",
              "</style>\n",
              "<table border=\"1\" class=\"dataframe\">\n",
              "  <thead>\n",
              "    <tr style=\"text-align: right;\">\n",
              "      <th></th>\n",
              "      <th>Open</th>\n",
              "      <th>High</th>\n",
              "      <th>Low</th>\n",
              "      <th>Close</th>\n",
              "      <th>Volume</th>\n",
              "    </tr>\n",
              "    <tr>\n",
              "      <th>Open time</th>\n",
              "      <th></th>\n",
              "      <th></th>\n",
              "      <th></th>\n",
              "      <th></th>\n",
              "      <th></th>\n",
              "    </tr>\n",
              "  </thead>\n",
              "  <tbody>\n",
              "    <tr>\n",
              "      <th>2017-10-01 00:00:00</th>\n",
              "      <td>4378.49</td>\n",
              "      <td>4378.49</td>\n",
              "      <td>4339.00</td>\n",
              "      <td>4360.00</td>\n",
              "      <td>13.195468</td>\n",
              "    </tr>\n",
              "    <tr>\n",
              "      <th>2017-10-01 00:15:00</th>\n",
              "      <td>4345.15</td>\n",
              "      <td>4377.84</td>\n",
              "      <td>4340.01</td>\n",
              "      <td>4340.01</td>\n",
              "      <td>6.364818</td>\n",
              "    </tr>\n",
              "    <tr>\n",
              "      <th>2017-10-01 00:30:00</th>\n",
              "      <td>4340.01</td>\n",
              "      <td>4360.00</td>\n",
              "      <td>4337.00</td>\n",
              "      <td>4340.00</td>\n",
              "      <td>16.289272</td>\n",
              "    </tr>\n",
              "    <tr>\n",
              "      <th>2017-10-01 00:45:00</th>\n",
              "      <td>4340.00</td>\n",
              "      <td>4360.00</td>\n",
              "      <td>4337.00</td>\n",
              "      <td>4345.95</td>\n",
              "      <td>13.121092</td>\n",
              "    </tr>\n",
              "    <tr>\n",
              "      <th>2017-10-01 01:00:00</th>\n",
              "      <td>4350.00</td>\n",
              "      <td>4350.00</td>\n",
              "      <td>4320.05</td>\n",
              "      <td>4344.95</td>\n",
              "      <td>5.489526</td>\n",
              "    </tr>\n",
              "    <tr>\n",
              "      <th>...</th>\n",
              "      <td>...</td>\n",
              "      <td>...</td>\n",
              "      <td>...</td>\n",
              "      <td>...</td>\n",
              "      <td>...</td>\n",
              "    </tr>\n",
              "    <tr>\n",
              "      <th>2018-12-31 22:45:00</th>\n",
              "      <td>3684.09</td>\n",
              "      <td>3687.02</td>\n",
              "      <td>3677.45</td>\n",
              "      <td>3686.43</td>\n",
              "      <td>190.685461</td>\n",
              "    </tr>\n",
              "    <tr>\n",
              "      <th>2018-12-31 23:00:00</th>\n",
              "      <td>3685.54</td>\n",
              "      <td>3700.00</td>\n",
              "      <td>3685.01</td>\n",
              "      <td>3695.85</td>\n",
              "      <td>261.022071</td>\n",
              "    </tr>\n",
              "    <tr>\n",
              "      <th>2018-12-31 23:15:00</th>\n",
              "      <td>3695.82</td>\n",
              "      <td>3703.12</td>\n",
              "      <td>3693.87</td>\n",
              "      <td>3698.09</td>\n",
              "      <td>249.189081</td>\n",
              "    </tr>\n",
              "    <tr>\n",
              "      <th>2018-12-31 23:30:00</th>\n",
              "      <td>3698.12</td>\n",
              "      <td>3698.58</td>\n",
              "      <td>3684.22</td>\n",
              "      <td>3689.12</td>\n",
              "      <td>166.152974</td>\n",
              "    </tr>\n",
              "    <tr>\n",
              "      <th>2018-12-31 23:45:00</th>\n",
              "      <td>3688.94</td>\n",
              "      <td>3707.50</td>\n",
              "      <td>3684.22</td>\n",
              "      <td>3702.90</td>\n",
              "      <td>419.980955</td>\n",
              "    </tr>\n",
              "  </tbody>\n",
              "</table>\n",
              "<p>43614 rows × 5 columns</p>\n",
              "</div>"
            ],
            "text/plain": [
              "                        Open     High      Low    Close      Volume\n",
              "Open time                                                          \n",
              "2017-10-01 00:00:00  4378.49  4378.49  4339.00  4360.00   13.195468\n",
              "2017-10-01 00:15:00  4345.15  4377.84  4340.01  4340.01    6.364818\n",
              "2017-10-01 00:30:00  4340.01  4360.00  4337.00  4340.00   16.289272\n",
              "2017-10-01 00:45:00  4340.00  4360.00  4337.00  4345.95   13.121092\n",
              "2017-10-01 01:00:00  4350.00  4350.00  4320.05  4344.95    5.489526\n",
              "...                      ...      ...      ...      ...         ...\n",
              "2018-12-31 22:45:00  3684.09  3687.02  3677.45  3686.43  190.685461\n",
              "2018-12-31 23:00:00  3685.54  3700.00  3685.01  3695.85  261.022071\n",
              "2018-12-31 23:15:00  3695.82  3703.12  3693.87  3698.09  249.189081\n",
              "2018-12-31 23:30:00  3698.12  3698.58  3684.22  3689.12  166.152974\n",
              "2018-12-31 23:45:00  3688.94  3707.50  3684.22  3702.90  419.980955\n",
              "\n",
              "[43614 rows x 5 columns]"
            ]
          },
          "metadata": {},
          "execution_count": 8
        }
      ]
    },
    {
      "cell_type": "code",
      "source": [
        "def train_test_split(df, test_size=0.2):\n",
        "    split_row = len(df) - int(test_size * len(df))\n",
        "    train_data = df.iloc[:split_row]\n",
        "    test_data = df.iloc[split_row:]\n",
        "    return train_data, test_data"
      ],
      "metadata": {
        "id": "TmQZfNP9aSyN"
      },
      "execution_count": 9,
      "outputs": []
    },
    {
      "cell_type": "code",
      "source": [
        "def line_plot(line1, line2, label1=None, label2=None, title='', lw=2):\n",
        "    fig, ax = plt.subplots(1, figsize=(13, 7))\n",
        "    ax.plot(line1, label=label1, linewidth=lw)\n",
        "    ax.plot(line2, label=label2, linewidth=lw)\n",
        "    ax.set_ylabel('price [INR]', fontsize=14)\n",
        "    ax.set_title(title, fontsize=16)\n",
        "    ax.legend(loc='best', fontsize=16);"
      ],
      "metadata": {
        "id": "EuDChsKFacDq"
      },
      "execution_count": 10,
      "outputs": []
    },
    {
      "cell_type": "code",
      "source": [
        "train, test = train_test_split(hist, test_size=0.2)"
      ],
      "metadata": {
        "id": "Z429ovMeae9A"
      },
      "execution_count": 11,
      "outputs": []
    },
    {
      "cell_type": "code",
      "source": [
        "train"
      ],
      "metadata": {
        "colab": {
          "base_uri": "https://localhost:8080/",
          "height": 455
        },
        "id": "2_XSLbDOhBe0",
        "outputId": "6e680b4f-5d44-4276-dbc5-5a6a019d289d"
      },
      "execution_count": 12,
      "outputs": [
        {
          "output_type": "execute_result",
          "data": {
            "text/html": [
              "<div>\n",
              "<style scoped>\n",
              "    .dataframe tbody tr th:only-of-type {\n",
              "        vertical-align: middle;\n",
              "    }\n",
              "\n",
              "    .dataframe tbody tr th {\n",
              "        vertical-align: top;\n",
              "    }\n",
              "\n",
              "    .dataframe thead th {\n",
              "        text-align: right;\n",
              "    }\n",
              "</style>\n",
              "<table border=\"1\" class=\"dataframe\">\n",
              "  <thead>\n",
              "    <tr style=\"text-align: right;\">\n",
              "      <th></th>\n",
              "      <th>Open</th>\n",
              "      <th>High</th>\n",
              "      <th>Low</th>\n",
              "      <th>Close</th>\n",
              "      <th>Volume</th>\n",
              "    </tr>\n",
              "    <tr>\n",
              "      <th>Open time</th>\n",
              "      <th></th>\n",
              "      <th></th>\n",
              "      <th></th>\n",
              "      <th></th>\n",
              "      <th></th>\n",
              "    </tr>\n",
              "  </thead>\n",
              "  <tbody>\n",
              "    <tr>\n",
              "      <th>2017-10-01 00:00:00</th>\n",
              "      <td>4378.49</td>\n",
              "      <td>4378.49</td>\n",
              "      <td>4339.00</td>\n",
              "      <td>4360.00</td>\n",
              "      <td>13.195468</td>\n",
              "    </tr>\n",
              "    <tr>\n",
              "      <th>2017-10-01 00:15:00</th>\n",
              "      <td>4345.15</td>\n",
              "      <td>4377.84</td>\n",
              "      <td>4340.01</td>\n",
              "      <td>4340.01</td>\n",
              "      <td>6.364818</td>\n",
              "    </tr>\n",
              "    <tr>\n",
              "      <th>2017-10-01 00:30:00</th>\n",
              "      <td>4340.01</td>\n",
              "      <td>4360.00</td>\n",
              "      <td>4337.00</td>\n",
              "      <td>4340.00</td>\n",
              "      <td>16.289272</td>\n",
              "    </tr>\n",
              "    <tr>\n",
              "      <th>2017-10-01 00:45:00</th>\n",
              "      <td>4340.00</td>\n",
              "      <td>4360.00</td>\n",
              "      <td>4337.00</td>\n",
              "      <td>4345.95</td>\n",
              "      <td>13.121092</td>\n",
              "    </tr>\n",
              "    <tr>\n",
              "      <th>2017-10-01 01:00:00</th>\n",
              "      <td>4350.00</td>\n",
              "      <td>4350.00</td>\n",
              "      <td>4320.05</td>\n",
              "      <td>4344.95</td>\n",
              "      <td>5.489526</td>\n",
              "    </tr>\n",
              "    <tr>\n",
              "      <th>...</th>\n",
              "      <td>...</td>\n",
              "      <td>...</td>\n",
              "      <td>...</td>\n",
              "      <td>...</td>\n",
              "      <td>...</td>\n",
              "    </tr>\n",
              "    <tr>\n",
              "      <th>2018-10-01 16:15:00</th>\n",
              "      <td>6549.15</td>\n",
              "      <td>6564.92</td>\n",
              "      <td>6541.00</td>\n",
              "      <td>6564.85</td>\n",
              "      <td>255.916387</td>\n",
              "    </tr>\n",
              "    <tr>\n",
              "      <th>2018-10-01 16:30:00</th>\n",
              "      <td>6561.10</td>\n",
              "      <td>6602.18</td>\n",
              "      <td>6561.10</td>\n",
              "      <td>6602.18</td>\n",
              "      <td>575.218498</td>\n",
              "    </tr>\n",
              "    <tr>\n",
              "      <th>2018-10-01 16:45:00</th>\n",
              "      <td>6599.38</td>\n",
              "      <td>6603.41</td>\n",
              "      <td>6585.40</td>\n",
              "      <td>6592.00</td>\n",
              "      <td>365.847377</td>\n",
              "    </tr>\n",
              "    <tr>\n",
              "      <th>2018-10-01 17:00:00</th>\n",
              "      <td>6592.03</td>\n",
              "      <td>6606.68</td>\n",
              "      <td>6582.49</td>\n",
              "      <td>6594.70</td>\n",
              "      <td>216.743288</td>\n",
              "    </tr>\n",
              "    <tr>\n",
              "      <th>2018-10-01 17:15:00</th>\n",
              "      <td>6592.91</td>\n",
              "      <td>6594.91</td>\n",
              "      <td>6580.73</td>\n",
              "      <td>6585.13</td>\n",
              "      <td>125.430835</td>\n",
              "    </tr>\n",
              "  </tbody>\n",
              "</table>\n",
              "<p>34892 rows × 5 columns</p>\n",
              "</div>"
            ],
            "text/plain": [
              "                        Open     High      Low    Close      Volume\n",
              "Open time                                                          \n",
              "2017-10-01 00:00:00  4378.49  4378.49  4339.00  4360.00   13.195468\n",
              "2017-10-01 00:15:00  4345.15  4377.84  4340.01  4340.01    6.364818\n",
              "2017-10-01 00:30:00  4340.01  4360.00  4337.00  4340.00   16.289272\n",
              "2017-10-01 00:45:00  4340.00  4360.00  4337.00  4345.95   13.121092\n",
              "2017-10-01 01:00:00  4350.00  4350.00  4320.05  4344.95    5.489526\n",
              "...                      ...      ...      ...      ...         ...\n",
              "2018-10-01 16:15:00  6549.15  6564.92  6541.00  6564.85  255.916387\n",
              "2018-10-01 16:30:00  6561.10  6602.18  6561.10  6602.18  575.218498\n",
              "2018-10-01 16:45:00  6599.38  6603.41  6585.40  6592.00  365.847377\n",
              "2018-10-01 17:00:00  6592.03  6606.68  6582.49  6594.70  216.743288\n",
              "2018-10-01 17:15:00  6592.91  6594.91  6580.73  6585.13  125.430835\n",
              "\n",
              "[34892 rows x 5 columns]"
            ]
          },
          "metadata": {},
          "execution_count": 12
        }
      ]
    },
    {
      "cell_type": "code",
      "source": [
        "line_plot(train[target_col], test[target_col], 'training', 'test', title='')"
      ],
      "metadata": {
        "colab": {
          "base_uri": "https://localhost:8080/",
          "height": 428
        },
        "id": "LccfC6y6hKpx",
        "outputId": "eddeda10-d059-4816-eea8-c67f857de788"
      },
      "execution_count": 13,
      "outputs": [
        {
          "output_type": "display_data",
          "data": {
            "image/png": "[encoded data removed]",
            "text/plain": [
              "<Figure size 936x504 with 1 Axes>"
            ]
          },
          "metadata": {
            "needs_background": "light"
          }
        }
      ]
    },
    {
      "cell_type": "code",
      "source": [
        "def normalise_zero_base(df):\n",
        "    return df/df.max()"
      ],
      "metadata": {
        "id": "73I4BoaVjk86"
      },
      "execution_count": 14,
      "outputs": []
    },
    {
      "cell_type": "code",
      "source": [
        "def normalise_min_max(df):\n",
        "    return (df - df.min()) / (df.max() - df.min())"
      ],
      "metadata": {
        "id": "A_NCdRqCj3ZA"
      },
      "execution_count": 15,
      "outputs": []
    },
    {
      "cell_type": "code",
      "source": [
        "def extract_window_data(df, window_len=20, zero_base=True):\n",
        "    window_data = []\n",
        "    for idx in range(len(df) - window_len):\n",
        "        tmp = df[idx: (idx + window_len)].copy()\n",
        "        if zero_base:\n",
        "            tmp = normalise_zero_base(tmp)\n",
        "        window_data.append(tmp.values)\n",
        "    return np.array(window_data)"
      ],
      "metadata": {
        "id": "y_O3aIAYj5-Y"
      },
      "execution_count": 16,
      "outputs": []
    },
    {
      "cell_type": "code",
      "source": [
        "def prepare_data(df, target_col, window_len=10, zero_base=True, test_size=0.2):\n",
        "    train_data, test_data = train_test_split(df, test_size=test_size)\n",
        "    X_train = extract_window_data(train_data, window_len, zero_base)\n",
        "    X_test = extract_window_data(test_data, window_len, zero_base)\n",
        "    y_train = train_data[target_col][window_len:].values\n",
        "    y_test = test_data[target_col][window_len:].values\n",
        "    if zero_base:\n",
        "        y_train = y_train / train_data[target_col][:-window_len].values - 1\n",
        "        y_test = y_test / test_data[target_col][:-window_len].values - 1\n",
        "\n",
        "    return train_data, test_data, X_train, X_test, y_train, y_test"
      ],
      "metadata": {
        "id": "JF8xENwjj75W"
      },
      "execution_count": 17,
      "outputs": []
    },
    {
      "cell_type": "code",
      "source": [
        "window_len = 20\n",
        "test_size = 0.2\n",
        "zero_base = True\n",
        "lstm_neurons = 32\n",
        "epochs = 100\n",
        "batch_size = 32\n",
        "loss = 'mse'\n",
        "dropout = 0.2\n",
        "optimizer = 'Nadam'"
      ],
      "metadata": {
        "id": "Wq01dDvDj9_H"
      },
      "execution_count": 18,
      "outputs": []
    },
    {
      "cell_type": "code",
      "source": [
        "train, test, X_train, X_test, y_train, y_test = prepare_data(hist, target_col, window_len=window_len, zero_base=zero_base, test_size=test_size)"
      ],
      "metadata": {
        "id": "I4oJNuWrkAmw"
      },
      "execution_count": 19,
      "outputs": []
    },
    {
      "cell_type": "code",
      "source": [
        "def build_lstm_model(input_data, output_size, neurons=100, activ_func='linear',\n",
        "                     dropout=0.2, loss='mse', optimizer='adam'):\n",
        "    model = Sequential()\n",
        "    model.add(LSTM(neurons, input_shape=(input_data.shape[1], input_data.shape[2])))\n",
        "    model.add(Dropout(dropout))\n",
        "    model.add(Dense(units=output_size))\n",
        "    model.add(Activation(activ_func))\n",
        "\n",
        "    model.compile(loss=loss, optimizer=optimizer)\n",
        "    return model"
      ],
      "metadata": {
        "id": "n3ep4we0kDI_"
      },
      "execution_count": 20,
      "outputs": []
    },
    {
      "cell_type": "code",
      "source": [
        "model = build_lstm_model(\n",
        "    X_train, output_size=1, neurons=lstm_neurons, dropout=dropout, loss=loss,\n",
        "    optimizer=optimizer)\n",
        "model.summary()"
      ],
      "metadata": {
        "colab": {
          "base_uri": "https://localhost:8080/"
        },
        "id": "x_wvS6EakMWS",
        "outputId": "78290091-df3c-4a3c-bcd0-fabd262adcef"
      },
      "execution_count": 21,
      "outputs": [
        {
          "output_type": "stream",
          "name": "stdout",
          "text": [
            "Model: \"sequential\"\n",
            "_________________________________________________________________\n",
            " Layer (type)                Output Shape              Param #   \n",
            "=================================================================\n",
            " lstm (LSTM)                 (None, 32)                4864      \n",
            "                                                                 \n",
            " dropout (Dropout)           (None, 32)                0         \n",
            "                                                                 \n",
            " dense (Dense)               (None, 1)                 33        \n",
            "                                                                 \n",
            " activation (Activation)     (None, 1)                 0         \n",
            "                                                                 \n",
            "=================================================================\n",
            "Total params: 4,897\n",
            "Trainable params: 4,897\n",
            "Non-trainable params: 0\n",
            "_________________________________________________________________\n"
          ]
        }
      ]
    },
    {
      "cell_type": "code",
      "source": [
        "history = model.fit(\n",
        "    X_train, y_train, epochs=epochs, batch_size=batch_size, verbose=1, shuffle=True)"
      ],
      "metadata": {
        "colab": {
          "base_uri": "https://localhost:8080/"
        },
        "id": "3yZSJrxskOoq",
        "outputId": "37f1ed5a-efd9-4533-f30a-6b839f9bc267"
      },
      "execution_count": 22,
      "outputs": [
        {
          "output_type": "stream",
          "name": "stdout",
          "text": [
            "Epoch 1/100\n",
            "1090/1090 [==============================] - 14s 8ms/step - loss: 0.0045\n",
            "Epoch 2/100\n",
            "1090/1090 [==============================] - 10s 9ms/step - loss: 5.6960e-04\n",
            "Epoch 3/100\n",
            "1090/1090 [==============================] - 9s 8ms/step - loss: 5.0705e-04\n",
            "Epoch 4/100\n",
            "1090/1090 [==============================] - 9s 8ms/step - loss: 4.4969e-04\n",
            "Epoch 5/100\n",
            "1090/1090 [==============================] - 9s 8ms/step - loss: 3.8877e-04\n",
            "Epoch 6/100\n",
            "1090/1090 [==============================] - 9s 8ms/step - loss: 3.0940e-04\n",
            "Epoch 7/100\n",
            "1090/1090 [==============================] - 9s 8ms/step - loss: 2.6953e-04\n",
            "Epoch 8/100\n",
            "1090/1090 [==============================] - 9s 8ms/step - loss: 2.3261e-04\n",
            "Epoch 9/100\n",
            "1090/1090 [==============================] - 9s 8ms/step - loss: 2.0425e-04\n",
            "Epoch 10/100\n",
            "1090/1090 [==============================] - 9s 8ms/step - loss: 1.8136e-04\n",
            "Epoch 11/100\n",
            "1090/1090 [==============================] - 9s 8ms/step - loss: 1.5862e-04\n",
            "Epoch 12/100\n",
            "1090/1090 [==============================] - 9s 8ms/step - loss: 1.3792e-04\n",
            "Epoch 13/100\n",
            "1090/1090 [==============================] - 9s 8ms/step - loss: 1.2118e-04\n",
            "Epoch 14/100\n",
            "1090/1090 [==============================] - 9s 8ms/step - loss: 1.0408e-04\n",
            "Epoch 15/100\n",
            "1090/1090 [==============================] - 9s 8ms/step - loss: 9.7910e-05\n",
            "Epoch 16/100\n",
            "1090/1090 [==============================] - 9s 8ms/step - loss: 9.0613e-05\n",
            "Epoch 17/100\n",
            "1090/1090 [==============================] - 9s 8ms/step - loss: 8.6318e-05\n",
            "Epoch 18/100\n",
            "1090/1090 [==============================] - 9s 8ms/step - loss: 8.2614e-05\n",
            "Epoch 19/100\n",
            "1090/1090 [==============================] - 9s 8ms/step - loss: 8.1709e-05\n",
            "Epoch 20/100\n",
            "1090/1090 [==============================] - 9s 8ms/step - loss: 7.8150e-05\n",
            "Epoch 21/100\n",
            "1090/1090 [==============================] - 9s 8ms/step - loss: 7.6213e-05\n",
            "Epoch 22/100\n",
            "1090/1090 [==============================] - 9s 8ms/step - loss: 7.3131e-05\n",
            "Epoch 23/100\n",
            "1090/1090 [==============================] - 9s 8ms/step - loss: 7.3116e-05\n",
            "Epoch 24/100\n",
            "1090/1090 [==============================] - 9s 8ms/step - loss: 7.2919e-05\n",
            "Epoch 25/100\n",
            "1090/1090 [==============================] - 9s 8ms/step - loss: 6.9751e-05\n",
            "Epoch 26/100\n",
            "1090/1090 [==============================] - 9s 8ms/step - loss: 6.8823e-05\n",
            "Epoch 27/100\n",
            "1090/1090 [==============================] - 9s 8ms/step - loss: 6.8885e-05\n",
            "Epoch 28/100\n",
            "1090/1090 [==============================] - 9s 8ms/step - loss: 6.7941e-05\n",
            "Epoch 29/100\n",
            "1090/1090 [==============================] - 9s 8ms/step - loss: 6.6347e-05\n",
            "Epoch 30/100\n",
            "1090/1090 [==============================] - 9s 8ms/step - loss: 6.7391e-05\n",
            "Epoch 31/100\n",
            "1090/1090 [==============================] - 9s 8ms/step - loss: 6.5134e-05\n",
            "Epoch 32/100\n",
            "1090/1090 [==============================] - 9s 8ms/step - loss: 6.5481e-05\n",
            "Epoch 33/100\n",
            "1090/1090 [==============================] - 9s 8ms/step - loss: 6.4620e-05\n",
            "Epoch 34/100\n",
            "1090/1090 [==============================] - 9s 8ms/step - loss: 6.3936e-05\n",
            "Epoch 35/100\n",
            "1090/1090 [==============================] - 9s 8ms/step - loss: 6.3546e-05\n",
            "Epoch 36/100\n",
            "1090/1090 [==============================] - 9s 8ms/step - loss: 6.2891e-05\n",
            "Epoch 37/100\n",
            "1090/1090 [==============================] - 9s 8ms/step - loss: 6.2114e-05\n",
            "Epoch 38/100\n",
            "1090/1090 [==============================] - 9s 8ms/step - loss: 6.1962e-05\n",
            "Epoch 39/100\n",
            "1090/1090 [==============================] - 9s 8ms/step - loss: 6.1504e-05\n",
            "Epoch 40/100\n",
            "1090/1090 [==============================] - 9s 8ms/step - loss: 6.1051e-05\n",
            "Epoch 41/100\n",
            "1090/1090 [==============================] - 9s 8ms/step - loss: 6.1618e-05\n",
            "Epoch 42/100\n",
            "1090/1090 [==============================] - 9s 8ms/step - loss: 6.0410e-05\n",
            "Epoch 43/100\n",
            "1090/1090 [==============================] - 9s 8ms/step - loss: 6.0876e-05\n",
            "Epoch 44/100\n",
            "1090/1090 [==============================] - 9s 8ms/step - loss: 5.9069e-05\n",
            "Epoch 45/100\n",
            "1090/1090 [==============================] - 9s 8ms/step - loss: 5.9791e-05\n",
            "Epoch 46/100\n",
            "1090/1090 [==============================] - 9s 8ms/step - loss: 5.8414e-05\n",
            "Epoch 47/100\n",
            "1090/1090 [==============================] - 9s 8ms/step - loss: 5.8971e-05\n",
            "Epoch 48/100\n",
            "1090/1090 [==============================] - 9s 8ms/step - loss: 5.8631e-05\n",
            "Epoch 49/100\n",
            "1090/1090 [==============================] - 9s 8ms/step - loss: 5.7718e-05\n",
            "Epoch 50/100\n",
            "1090/1090 [==============================] - 9s 8ms/step - loss: 5.7807e-05\n",
            "Epoch 51/100\n",
            "1090/1090 [==============================] - 9s 8ms/step - loss: 5.8072e-05\n",
            "Epoch 52/100\n",
            "1090/1090 [==============================] - 9s 8ms/step - loss: 5.6795e-05\n",
            "Epoch 53/100\n",
            "1090/1090 [==============================] - 9s 8ms/step - loss: 5.6493e-05\n",
            "Epoch 54/100\n",
            "1090/1090 [==============================] - 9s 8ms/step - loss: 5.7091e-05\n",
            "Epoch 55/100\n",
            "1090/1090 [==============================] - 9s 8ms/step - loss: 5.5984e-05\n",
            "Epoch 56/100\n",
            "1090/1090 [==============================] - 9s 8ms/step - loss: 5.5790e-05\n",
            "Epoch 57/100\n",
            "1090/1090 [==============================] - 9s 8ms/step - loss: 5.5102e-05\n",
            "Epoch 58/100\n",
            "1090/1090 [==============================] - 9s 8ms/step - loss: 5.5649e-05\n",
            "Epoch 59/100\n",
            "1090/1090 [==============================] - 9s 8ms/step - loss: 5.4845e-05\n",
            "Epoch 60/100\n",
            "1090/1090 [==============================] - 9s 8ms/step - loss: 5.5170e-05\n",
            "Epoch 61/100\n",
            "1090/1090 [==============================] - 9s 8ms/step - loss: 5.4674e-05\n",
            "Epoch 62/100\n",
            "1090/1090 [==============================] - 9s 8ms/step - loss: 5.4445e-05\n",
            "Epoch 63/100\n",
            "1090/1090 [==============================] - 9s 8ms/step - loss: 5.3566e-05\n",
            "Epoch 64/100\n",
            "1090/1090 [==============================] - 9s 8ms/step - loss: 5.3720e-05\n",
            "Epoch 65/100\n",
            "1090/1090 [==============================] - 9s 8ms/step - loss: 5.3215e-05\n",
            "Epoch 66/100\n",
            "1090/1090 [==============================] - 9s 8ms/step - loss: 5.2616e-05\n",
            "Epoch 67/100\n",
            "1090/1090 [==============================] - 9s 8ms/step - loss: 5.2820e-05\n",
            "Epoch 68/100\n",
            "1090/1090 [==============================] - 9s 8ms/step - loss: 5.2900e-05\n",
            "Epoch 69/100\n",
            "1090/1090 [==============================] - 9s 8ms/step - loss: 5.2529e-05\n",
            "Epoch 70/100\n",
            "1090/1090 [==============================] - 9s 8ms/step - loss: 5.2566e-05\n",
            "Epoch 71/100\n",
            "1090/1090 [==============================] - 9s 8ms/step - loss: 5.2314e-05\n",
            "Epoch 72/100\n",
            "1090/1090 [==============================] - 9s 8ms/step - loss: 5.1234e-05\n",
            "Epoch 73/100\n",
            "1090/1090 [==============================] - 9s 8ms/step - loss: 5.2199e-05\n",
            "Epoch 74/100\n",
            "1090/1090 [==============================] - 9s 8ms/step - loss: 5.2006e-05\n",
            "Epoch 75/100\n",
            "1090/1090 [==============================] - 9s 8ms/step - loss: 5.1393e-05\n",
            "Epoch 76/100\n",
            "1090/1090 [==============================] - 9s 8ms/step - loss: 5.0942e-05\n",
            "Epoch 77/100\n",
            "1090/1090 [==============================] - 9s 8ms/step - loss: 5.1215e-05\n",
            "Epoch 78/100\n",
            "1090/1090 [==============================] - 9s 8ms/step - loss: 5.0897e-05\n",
            "Epoch 79/100\n",
            "1090/1090 [==============================] - 9s 8ms/step - loss: 5.1201e-05\n",
            "Epoch 80/100\n",
            "1090/1090 [==============================] - 9s 8ms/step - loss: 5.0901e-05\n",
            "Epoch 81/100\n",
            "1090/1090 [==============================] - 9s 8ms/step - loss: 5.0183e-05\n",
            "Epoch 82/100\n",
            "1090/1090 [==============================] - 9s 8ms/step - loss: 5.0465e-05\n",
            "Epoch 83/100\n",
            "1090/1090 [==============================] - 9s 8ms/step - loss: 5.0236e-05\n",
            "Epoch 84/100\n",
            "1090/1090 [==============================] - 9s 8ms/step - loss: 5.0389e-05\n",
            "Epoch 85/100\n",
            "1090/1090 [==============================] - 9s 8ms/step - loss: 5.0620e-05\n",
            "Epoch 86/100\n",
            "1090/1090 [==============================] - 9s 8ms/step - loss: 5.0393e-05\n",
            "Epoch 87/100\n",
            "1090/1090 [==============================] - 9s 8ms/step - loss: 4.9757e-05\n",
            "Epoch 88/100\n",
            "1090/1090 [==============================] - 9s 8ms/step - loss: 4.9566e-05\n",
            "Epoch 89/100\n",
            "1090/1090 [==============================] - 9s 8ms/step - loss: 4.9738e-05\n",
            "Epoch 90/100\n",
            "1090/1090 [==============================] - 9s 8ms/step - loss: 4.9947e-05\n",
            "Epoch 91/100\n",
            "1090/1090 [==============================] - 9s 8ms/step - loss: 4.9526e-05\n",
            "Epoch 92/100\n",
            "1090/1090 [==============================] - 9s 8ms/step - loss: 5.0227e-05\n",
            "Epoch 93/100\n",
            "1090/1090 [==============================] - 9s 8ms/step - loss: 4.9061e-05\n",
            "Epoch 94/100\n",
            "1090/1090 [==============================] - 9s 8ms/step - loss: 4.8882e-05\n",
            "Epoch 95/100\n",
            "1090/1090 [==============================] - 9s 8ms/step - loss: 4.9851e-05\n",
            "Epoch 96/100\n",
            "1090/1090 [==============================] - 9s 8ms/step - loss: 4.9098e-05\n",
            "Epoch 97/100\n",
            "1090/1090 [==============================] - 9s 8ms/step - loss: 4.9487e-05\n",
            "Epoch 98/100\n",
            "1090/1090 [==============================] - 9s 8ms/step - loss: 4.9306e-05\n",
            "Epoch 99/100\n",
            "1090/1090 [==============================] - 9s 8ms/step - loss: 4.8120e-05\n",
            "Epoch 100/100\n",
            "1090/1090 [==============================] - 9s 8ms/step - loss: 4.9086e-05\n"
          ]
        }
      ]
    },
    {
      "cell_type": "code",
      "source": [
        "targets = test[target_col][window_len:]\n",
        "preds = model.predict(X_test).squeeze()\n",
        "mean_absolute_error(preds, y_test)"
      ],
      "metadata": {
        "colab": {
          "base_uri": "https://localhost:8080/"
        },
        "id": "05oRRZ45kRIs",
        "outputId": "f441d70f-63c9-4a58-bf1b-714e1fd62e1e"
      },
      "execution_count": 23,
      "outputs": [
        {
          "output_type": "execute_result",
          "data": {
            "text/plain": [
              "0.002519473126296143"
            ]
          },
          "metadata": {},
          "execution_count": 23
        }
      ]
    },
    {
      "cell_type": "code",
      "source": [
        "preds = test[target_col].values[:-window_len] * (preds + 1)\n",
        "preds = pd.Series(index=targets.index, data=preds)"
      ],
      "metadata": {
        "id": "X66lwP_ukRw8"
      },
      "execution_count": 24,
      "outputs": []
    },
    {
      "cell_type": "code",
      "source": [
        "line_plot(targets, preds, 'actual', 'prediction', lw=3)\n"
      ],
      "metadata": {
        "colab": {
          "base_uri": "https://localhost:8080/",
          "height": 428
        },
        "id": "kfjpnLatjBWX",
        "outputId": "d08799f0-0fba-400a-c9aa-8f49489bd1a5"
      },
      "execution_count": 25,
      "outputs": [
        {
          "output_type": "display_data",
          "data": {
            "image/png": "[encoded data removed]",
            "text/plain": [
              "<Figure size 936x504 with 1 Axes>"
            ]
          },
          "metadata": {
            "needs_background": "light"
          }
        }
      ]
    },
    {
      "cell_type": "code",
      "source": [
        "line_plot(targets[:500], preds[:500], 'actual', 'prediction', lw=3)\n"
      ],
      "metadata": {
        "colab": {
          "base_uri": "https://localhost:8080/",
          "height": 428
        },
        "id": "8atGka_alOrb",
        "outputId": "5310b74d-6f1b-4078-f122-9a4488ee6dbb"
      },
      "execution_count": 33,
      "outputs": [
        {
          "output_type": "display_data",
          "data": {
            "image/png": "[encoded data removed]",
            "text/plain": [
              "<Figure size 936x504 with 1 Axes>"
            ]
          },
          "metadata": {
            "needs_background": "light"
          }
        }
      ]
    },
    {
      "cell_type": "code",
      "source": [
        "from sklearn.metrics import mean_squared_error\n",
        "rmse = mean_squared_error(targets, preds , squared=False)\n",
        "print(\"rmse: \" +str(rmse))"
      ],
      "metadata": {
        "colab": {
          "base_uri": "https://localhost:8080/"
        },
        "id": "5zmnLy0GYeYf",
        "outputId": "15b45d81-a05a-4491-e260-5625d70f0062"
      },
      "execution_count": 27,
      "outputs": [
        {
          "output_type": "stream",
          "name": "stdout",
          "text": [
            "rmse: 19.913720942083955\n"
          ]
        }
      ]
    },
    {
      "cell_type": "code",
      "source": [
        "from sklearn.metrics import mean_squared_error\n",
        "mse = mean_squared_error(targets, preds , squared=True)\n",
        "print(\"mse: \" +str(mse))"
      ],
      "metadata": {
        "colab": {
          "base_uri": "https://localhost:8080/"
        },
        "id": "aFE96WIcdtf4",
        "outputId": "ea7bc00f-9a22-4a17-faea-0ad060176525"
      },
      "execution_count": 28,
      "outputs": [
        {
          "output_type": "stream",
          "name": "stdout",
          "text": [
            "mse: 396.5562817591931\n"
          ]
        }
      ]
    },
    {
      "cell_type": "code",
      "source": [
        "mape=sum(abs((targets-preds)/targets))/len(targets)\n",
        "print(\"mape: \" +str(mape))"
      ],
      "metadata": {
        "colab": {
          "base_uri": "https://localhost:8080/"
        },
        "id": "1n2Fwby-b3ms",
        "outputId": "d6533a20-65c7-4494-b45c-aabbdc865deb"
      },
      "execution_count": 29,
      "outputs": [
        {
          "output_type": "stream",
          "name": "stdout",
          "text": [
            "mape: 0.0025254259328276697\n"
          ]
        }
      ]
    },
    {
      "cell_type": "code",
      "source": [
        ""
      ],
      "metadata": {
        "id": "e2UphlW9eEMP"
      },
      "execution_count": 29,
      "outputs": []
    }
  ]
}