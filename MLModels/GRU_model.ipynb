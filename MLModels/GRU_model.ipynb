{
  "nbformat": 4,
  "nbformat_minor": 0,
  "metadata": {
    "colab": {
      "name": "GRU model",
      "provenance": [],
      "collapsed_sections": []
    },
    "kernelspec": {
      "name": "python3",
      "display_name": "Python 3"
    },
    "language_info": {
      "name": "python"
    },
    "accelerator": "GPU"
  },
  "cells": [
    {
      "cell_type": "code",
      "execution_count": 1,
      "metadata": {
        "colab": {
          "base_uri": "https://localhost:8080/"
        },
        "id": "WJ3SGDkUU7yW",
        "outputId": "cb9707bd-377b-464b-f120-077567e931e8"
      },
      "outputs": [
        {
          "output_type": "stream",
          "name": "stdout",
          "text": [
            "Mounted at /content/drive\n"
          ]
        }
      ],
      "source": [
        "from google.colab import drive\n",
        "drive.mount('/content/drive')"
      ]
    },
    {
      "cell_type": "code",
      "source": [
        "%tensorflow_version 2.x\n",
        "import json\n",
        "import requests\n",
        "from keras.models import Sequential\n",
        "from keras.layers import Activation, Dense, Dropout, LSTM, GRU\n",
        "import matplotlib.pyplot as plt\n",
        "import numpy as np\n",
        "import pandas as pd\n",
        "import seaborn as sns\n",
        "from sklearn.metrics import mean_absolute_error\n",
        "from datetime import date, timedelta\n",
        "import time\n",
        "import datetime\n",
        "from tensorflow import keras\n",
        "from keras.layers import Bidirectional\n",
        "from tensorflow.keras.optimizers import SGD\n",
        "from sklearn.metrics import mean_squared_error\n",
        "\n",
        "%matplotlib inline"
      ],
      "metadata": {
        "id": "PuyFCrg1VDfe"
      },
      "execution_count": 32,
      "outputs": []
    },
    {
      "cell_type": "code",
      "source": [
        "hist = pd.read_csv('/content/drive/MyDrive/S7 Project/BTC.csv')\n",
        "hist = hist.drop(['Number of trades'], axis=1)\n",
        "hist = hist.drop(['Close time'], axis=1)\n",
        "hist = hist.drop(['Quote asset volume'], axis=1)\n",
        "hist = hist.drop(['Taker buy base asset volume'], axis=1)\n",
        "hist = hist.drop(['Taker buy quote asset volume'], axis=1)\n",
        "# hist = hist.drop(['Volume'], axis=1)\n",
        "target_col = 'Close'\n",
        "hist['Open time'] = pd.to_datetime(hist['Open time']/1000, unit='s')\n",
        "hist = hist.set_index('Open time')"
      ],
      "metadata": {
        "id": "ur3BmLj5aAZv"
      },
      "execution_count": 3,
      "outputs": []
    },
    {
      "cell_type": "code",
      "source": [
        "hist"
      ],
      "metadata": {
        "colab": {
          "base_uri": "https://localhost:8080/",
          "height": 455
        },
        "id": "P9Uj-MDKaD0H",
        "outputId": "7723d527-21f5-425d-df76-09c371f8392e"
      },
      "execution_count": 4,
      "outputs": [
        {
          "output_type": "execute_result",
          "data": {
            "text/html": [
              "<div>\n",
              "<style scoped>\n",
              "    .dataframe tbody tr th:only-of-type {\n",
              "        vertical-align: middle;\n",
              "    }\n",
              "\n",
              "    .dataframe tbody tr th {\n",
              "        vertical-align: top;\n",
              "    }\n",
              "\n",
              "    .dataframe thead th {\n",
              "        text-align: right;\n",
              "    }\n",
              "</style>\n",
              "<table border=\"1\" class=\"dataframe\">\n",
              "  <thead>\n",
              "    <tr style=\"text-align: right;\">\n",
              "      <th></th>\n",
              "      <th>Open</th>\n",
              "      <th>High</th>\n",
              "      <th>Low</th>\n",
              "      <th>Close</th>\n",
              "      <th>Volume</th>\n",
              "    </tr>\n",
              "    <tr>\n",
              "      <th>Open time</th>\n",
              "      <th></th>\n",
              "      <th></th>\n",
              "      <th></th>\n",
              "      <th></th>\n",
              "      <th></th>\n",
              "    </tr>\n",
              "  </thead>\n",
              "  <tbody>\n",
              "    <tr>\n",
              "      <th>2017-08-17 04:00:00</th>\n",
              "      <td>4261.48</td>\n",
              "      <td>4280.56</td>\n",
              "      <td>4261.48</td>\n",
              "      <td>4261.48</td>\n",
              "      <td>2.189061</td>\n",
              "    </tr>\n",
              "    <tr>\n",
              "      <th>2017-08-17 04:15:00</th>\n",
              "      <td>4261.48</td>\n",
              "      <td>4270.41</td>\n",
              "      <td>4261.32</td>\n",
              "      <td>4261.45</td>\n",
              "      <td>9.119865</td>\n",
              "    </tr>\n",
              "    <tr>\n",
              "      <th>2017-08-17 04:30:00</th>\n",
              "      <td>4280.00</td>\n",
              "      <td>4310.07</td>\n",
              "      <td>4267.99</td>\n",
              "      <td>4310.07</td>\n",
              "      <td>21.923552</td>\n",
              "    </tr>\n",
              "    <tr>\n",
              "      <th>2017-08-17 04:45:00</th>\n",
              "      <td>4310.07</td>\n",
              "      <td>4313.62</td>\n",
              "      <td>4291.37</td>\n",
              "      <td>4308.83</td>\n",
              "      <td>13.948531</td>\n",
              "    </tr>\n",
              "    <tr>\n",
              "      <th>2017-08-17 05:00:00</th>\n",
              "      <td>4308.83</td>\n",
              "      <td>4328.69</td>\n",
              "      <td>4304.31</td>\n",
              "      <td>4304.31</td>\n",
              "      <td>5.101153</td>\n",
              "    </tr>\n",
              "    <tr>\n",
              "      <th>...</th>\n",
              "      <td>...</td>\n",
              "      <td>...</td>\n",
              "      <td>...</td>\n",
              "      <td>...</td>\n",
              "      <td>...</td>\n",
              "    </tr>\n",
              "    <tr>\n",
              "      <th>2021-09-27 17:15:00</th>\n",
              "      <td>43137.05</td>\n",
              "      <td>43240.01</td>\n",
              "      <td>42970.55</td>\n",
              "      <td>42981.75</td>\n",
              "      <td>313.482490</td>\n",
              "    </tr>\n",
              "    <tr>\n",
              "      <th>2021-09-27 17:30:00</th>\n",
              "      <td>42981.76</td>\n",
              "      <td>43157.33</td>\n",
              "      <td>42923.52</td>\n",
              "      <td>43083.49</td>\n",
              "      <td>293.079110</td>\n",
              "    </tr>\n",
              "    <tr>\n",
              "      <th>2021-09-27 17:45:00</th>\n",
              "      <td>43083.48</td>\n",
              "      <td>43113.71</td>\n",
              "      <td>42960.14</td>\n",
              "      <td>43049.47</td>\n",
              "      <td>218.085500</td>\n",
              "    </tr>\n",
              "    <tr>\n",
              "      <th>2021-09-27 18:00:00</th>\n",
              "      <td>43049.46</td>\n",
              "      <td>43213.32</td>\n",
              "      <td>43001.86</td>\n",
              "      <td>43186.82</td>\n",
              "      <td>253.036090</td>\n",
              "    </tr>\n",
              "    <tr>\n",
              "      <th>2021-09-27 18:15:00</th>\n",
              "      <td>43185.11</td>\n",
              "      <td>43198.97</td>\n",
              "      <td>43112.54</td>\n",
              "      <td>43161.45</td>\n",
              "      <td>183.536760</td>\n",
              "    </tr>\n",
              "  </tbody>\n",
              "</table>\n",
              "<p>143729 rows × 5 columns</p>\n",
              "</div>"
            ],
            "text/plain": [
              "                         Open      High       Low     Close      Volume\n",
              "Open time                                                              \n",
              "2017-08-17 04:00:00   4261.48   4280.56   4261.48   4261.48    2.189061\n",
              "2017-08-17 04:15:00   4261.48   4270.41   4261.32   4261.45    9.119865\n",
              "2017-08-17 04:30:00   4280.00   4310.07   4267.99   4310.07   21.923552\n",
              "2017-08-17 04:45:00   4310.07   4313.62   4291.37   4308.83   13.948531\n",
              "2017-08-17 05:00:00   4308.83   4328.69   4304.31   4304.31    5.101153\n",
              "...                       ...       ...       ...       ...         ...\n",
              "2021-09-27 17:15:00  43137.05  43240.01  42970.55  42981.75  313.482490\n",
              "2021-09-27 17:30:00  42981.76  43157.33  42923.52  43083.49  293.079110\n",
              "2021-09-27 17:45:00  43083.48  43113.71  42960.14  43049.47  218.085500\n",
              "2021-09-27 18:00:00  43049.46  43213.32  43001.86  43186.82  253.036090\n",
              "2021-09-27 18:15:00  43185.11  43198.97  43112.54  43161.45  183.536760\n",
              "\n",
              "[143729 rows x 5 columns]"
            ]
          },
          "metadata": {},
          "execution_count": 4
        }
      ]
    },
    {
      "cell_type": "code",
      "source": [
        "print(hist.iloc[4278])"
      ],
      "metadata": {
        "colab": {
          "base_uri": "https://localhost:8080/"
        },
        "id": "JPF5Aa4Zcl7O",
        "outputId": "fbf2d547-22a3-4b42-abc2-1f34a6baed9b"
      },
      "execution_count": 5,
      "outputs": [
        {
          "output_type": "stream",
          "name": "stdout",
          "text": [
            "Open      4378.490000\n",
            "High      4378.490000\n",
            "Low       4339.000000\n",
            "Close     4360.000000\n",
            "Volume      13.195468\n",
            "Name: 2017-10-01 00:00:00, dtype: float64\n"
          ]
        }
      ]
    },
    {
      "cell_type": "code",
      "source": [
        "print(hist.iloc[47891])"
      ],
      "metadata": {
        "colab": {
          "base_uri": "https://localhost:8080/"
        },
        "id": "KLv3VGroeBju",
        "outputId": "c8476b5b-8a4b-4b1c-bba0-33c81b768151"
      },
      "execution_count": 6,
      "outputs": [
        {
          "output_type": "stream",
          "name": "stdout",
          "text": [
            "Open      3688.940000\n",
            "High      3707.500000\n",
            "Low       3684.220000\n",
            "Close     3702.900000\n",
            "Volume     419.980955\n",
            "Name: 2018-12-31 23:45:00, dtype: float64\n"
          ]
        }
      ]
    },
    {
      "cell_type": "code",
      "source": [
        "hist = hist[4278:47892]"
      ],
      "metadata": {
        "id": "9OzXrnC4eiop"
      },
      "execution_count": 7,
      "outputs": []
    },
    {
      "cell_type": "code",
      "source": [
        "hist"
      ],
      "metadata": {
        "colab": {
          "base_uri": "https://localhost:8080/",
          "height": 455
        },
        "id": "Gy2Ouf7JezZd",
        "outputId": "7ef03dbf-ed7b-45a7-f54b-c614c8ed646e"
      },
      "execution_count": 8,
      "outputs": [
        {
          "output_type": "execute_result",
          "data": {
            "text/html": [
              "<div>\n",
              "<style scoped>\n",
              "    .dataframe tbody tr th:only-of-type {\n",
              "        vertical-align: middle;\n",
              "    }\n",
              "\n",
              "    .dataframe tbody tr th {\n",
              "        vertical-align: top;\n",
              "    }\n",
              "\n",
              "    .dataframe thead th {\n",
              "        text-align: right;\n",
              "    }\n",
              "</style>\n",
              "<table border=\"1\" class=\"dataframe\">\n",
              "  <thead>\n",
              "    <tr style=\"text-align: right;\">\n",
              "      <th></th>\n",
              "      <th>Open</th>\n",
              "      <th>High</th>\n",
              "      <th>Low</th>\n",
              "      <th>Close</th>\n",
              "      <th>Volume</th>\n",
              "    </tr>\n",
              "    <tr>\n",
              "      <th>Open time</th>\n",
              "      <th></th>\n",
              "      <th></th>\n",
              "      <th></th>\n",
              "      <th></th>\n",
              "      <th></th>\n",
              "    </tr>\n",
              "  </thead>\n",
              "  <tbody>\n",
              "    <tr>\n",
              "      <th>2017-10-01 00:00:00</th>\n",
              "      <td>4378.49</td>\n",
              "      <td>4378.49</td>\n",
              "      <td>4339.00</td>\n",
              "      <td>4360.00</td>\n",
              "      <td>13.195468</td>\n",
              "    </tr>\n",
              "    <tr>\n",
              "      <th>2017-10-01 00:15:00</th>\n",
              "      <td>4345.15</td>\n",
              "      <td>4377.84</td>\n",
              "      <td>4340.01</td>\n",
              "      <td>4340.01</td>\n",
              "      <td>6.364818</td>\n",
              "    </tr>\n",
              "    <tr>\n",
              "      <th>2017-10-01 00:30:00</th>\n",
              "      <td>4340.01</td>\n",
              "      <td>4360.00</td>\n",
              "      <td>4337.00</td>\n",
              "      <td>4340.00</td>\n",
              "      <td>16.289272</td>\n",
              "    </tr>\n",
              "    <tr>\n",
              "      <th>2017-10-01 00:45:00</th>\n",
              "      <td>4340.00</td>\n",
              "      <td>4360.00</td>\n",
              "      <td>4337.00</td>\n",
              "      <td>4345.95</td>\n",
              "      <td>13.121092</td>\n",
              "    </tr>\n",
              "    <tr>\n",
              "      <th>2017-10-01 01:00:00</th>\n",
              "      <td>4350.00</td>\n",
              "      <td>4350.00</td>\n",
              "      <td>4320.05</td>\n",
              "      <td>4344.95</td>\n",
              "      <td>5.489526</td>\n",
              "    </tr>\n",
              "    <tr>\n",
              "      <th>...</th>\n",
              "      <td>...</td>\n",
              "      <td>...</td>\n",
              "      <td>...</td>\n",
              "      <td>...</td>\n",
              "      <td>...</td>\n",
              "    </tr>\n",
              "    <tr>\n",
              "      <th>2018-12-31 22:45:00</th>\n",
              "      <td>3684.09</td>\n",
              "      <td>3687.02</td>\n",
              "      <td>3677.45</td>\n",
              "      <td>3686.43</td>\n",
              "      <td>190.685461</td>\n",
              "    </tr>\n",
              "    <tr>\n",
              "      <th>2018-12-31 23:00:00</th>\n",
              "      <td>3685.54</td>\n",
              "      <td>3700.00</td>\n",
              "      <td>3685.01</td>\n",
              "      <td>3695.85</td>\n",
              "      <td>261.022071</td>\n",
              "    </tr>\n",
              "    <tr>\n",
              "      <th>2018-12-31 23:15:00</th>\n",
              "      <td>3695.82</td>\n",
              "      <td>3703.12</td>\n",
              "      <td>3693.87</td>\n",
              "      <td>3698.09</td>\n",
              "      <td>249.189081</td>\n",
              "    </tr>\n",
              "    <tr>\n",
              "      <th>2018-12-31 23:30:00</th>\n",
              "      <td>3698.12</td>\n",
              "      <td>3698.58</td>\n",
              "      <td>3684.22</td>\n",
              "      <td>3689.12</td>\n",
              "      <td>166.152974</td>\n",
              "    </tr>\n",
              "    <tr>\n",
              "      <th>2018-12-31 23:45:00</th>\n",
              "      <td>3688.94</td>\n",
              "      <td>3707.50</td>\n",
              "      <td>3684.22</td>\n",
              "      <td>3702.90</td>\n",
              "      <td>419.980955</td>\n",
              "    </tr>\n",
              "  </tbody>\n",
              "</table>\n",
              "<p>43614 rows × 5 columns</p>\n",
              "</div>"
            ],
            "text/plain": [
              "                        Open     High      Low    Close      Volume\n",
              "Open time                                                          \n",
              "2017-10-01 00:00:00  4378.49  4378.49  4339.00  4360.00   13.195468\n",
              "2017-10-01 00:15:00  4345.15  4377.84  4340.01  4340.01    6.364818\n",
              "2017-10-01 00:30:00  4340.01  4360.00  4337.00  4340.00   16.289272\n",
              "2017-10-01 00:45:00  4340.00  4360.00  4337.00  4345.95   13.121092\n",
              "2017-10-01 01:00:00  4350.00  4350.00  4320.05  4344.95    5.489526\n",
              "...                      ...      ...      ...      ...         ...\n",
              "2018-12-31 22:45:00  3684.09  3687.02  3677.45  3686.43  190.685461\n",
              "2018-12-31 23:00:00  3685.54  3700.00  3685.01  3695.85  261.022071\n",
              "2018-12-31 23:15:00  3695.82  3703.12  3693.87  3698.09  249.189081\n",
              "2018-12-31 23:30:00  3698.12  3698.58  3684.22  3689.12  166.152974\n",
              "2018-12-31 23:45:00  3688.94  3707.50  3684.22  3702.90  419.980955\n",
              "\n",
              "[43614 rows x 5 columns]"
            ]
          },
          "metadata": {},
          "execution_count": 8
        }
      ]
    },
    {
      "cell_type": "code",
      "source": [
        "def train_test_split(df, test_size=0.2):\n",
        "    split_row = len(df) - int(test_size * len(df))\n",
        "    train_data = df.iloc[:split_row]\n",
        "    test_data = df.iloc[split_row:]\n",
        "    return train_data, test_data"
      ],
      "metadata": {
        "id": "TmQZfNP9aSyN"
      },
      "execution_count": 9,
      "outputs": []
    },
    {
      "cell_type": "code",
      "source": [
        "def line_plot(line1, line2, label1=None, label2=None, title='', lw=2):\n",
        "    fig, ax = plt.subplots(1, figsize=(13, 7))\n",
        "    ax.plot(line1, label=label1, linewidth=lw)\n",
        "    ax.plot(line2, label=label2, linewidth=lw)\n",
        "    ax.set_ylabel('price [INR]', fontsize=14)\n",
        "    ax.set_title(title, fontsize=16)\n",
        "    ax.legend(loc='best', fontsize=16);"
      ],
      "metadata": {
        "id": "EuDChsKFacDq"
      },
      "execution_count": 10,
      "outputs": []
    },
    {
      "cell_type": "code",
      "source": [
        "train, test = train_test_split(hist, test_size=0.2)"
      ],
      "metadata": {
        "id": "Z429ovMeae9A"
      },
      "execution_count": 11,
      "outputs": []
    },
    {
      "cell_type": "code",
      "source": [
        "train"
      ],
      "metadata": {
        "colab": {
          "base_uri": "https://localhost:8080/",
          "height": 455
        },
        "id": "2_XSLbDOhBe0",
        "outputId": "cd21b2e8-ae18-41b2-9072-47a6cbf628b6"
      },
      "execution_count": 12,
      "outputs": [
        {
          "output_type": "execute_result",
          "data": {
            "text/html": [
              "<div>\n",
              "<style scoped>\n",
              "    .dataframe tbody tr th:only-of-type {\n",
              "        vertical-align: middle;\n",
              "    }\n",
              "\n",
              "    .dataframe tbody tr th {\n",
              "        vertical-align: top;\n",
              "    }\n",
              "\n",
              "    .dataframe thead th {\n",
              "        text-align: right;\n",
              "    }\n",
              "</style>\n",
              "<table border=\"1\" class=\"dataframe\">\n",
              "  <thead>\n",
              "    <tr style=\"text-align: right;\">\n",
              "      <th></th>\n",
              "      <th>Open</th>\n",
              "      <th>High</th>\n",
              "      <th>Low</th>\n",
              "      <th>Close</th>\n",
              "      <th>Volume</th>\n",
              "    </tr>\n",
              "    <tr>\n",
              "      <th>Open time</th>\n",
              "      <th></th>\n",
              "      <th></th>\n",
              "      <th></th>\n",
              "      <th></th>\n",
              "      <th></th>\n",
              "    </tr>\n",
              "  </thead>\n",
              "  <tbody>\n",
              "    <tr>\n",
              "      <th>2017-10-01 00:00:00</th>\n",
              "      <td>4378.49</td>\n",
              "      <td>4378.49</td>\n",
              "      <td>4339.00</td>\n",
              "      <td>4360.00</td>\n",
              "      <td>13.195468</td>\n",
              "    </tr>\n",
              "    <tr>\n",
              "      <th>2017-10-01 00:15:00</th>\n",
              "      <td>4345.15</td>\n",
              "      <td>4377.84</td>\n",
              "      <td>4340.01</td>\n",
              "      <td>4340.01</td>\n",
              "      <td>6.364818</td>\n",
              "    </tr>\n",
              "    <tr>\n",
              "      <th>2017-10-01 00:30:00</th>\n",
              "      <td>4340.01</td>\n",
              "      <td>4360.00</td>\n",
              "      <td>4337.00</td>\n",
              "      <td>4340.00</td>\n",
              "      <td>16.289272</td>\n",
              "    </tr>\n",
              "    <tr>\n",
              "      <th>2017-10-01 00:45:00</th>\n",
              "      <td>4340.00</td>\n",
              "      <td>4360.00</td>\n",
              "      <td>4337.00</td>\n",
              "      <td>4345.95</td>\n",
              "      <td>13.121092</td>\n",
              "    </tr>\n",
              "    <tr>\n",
              "      <th>2017-10-01 01:00:00</th>\n",
              "      <td>4350.00</td>\n",
              "      <td>4350.00</td>\n",
              "      <td>4320.05</td>\n",
              "      <td>4344.95</td>\n",
              "      <td>5.489526</td>\n",
              "    </tr>\n",
              "    <tr>\n",
              "      <th>...</th>\n",
              "      <td>...</td>\n",
              "      <td>...</td>\n",
              "      <td>...</td>\n",
              "      <td>...</td>\n",
              "      <td>...</td>\n",
              "    </tr>\n",
              "    <tr>\n",
              "      <th>2018-10-01 16:15:00</th>\n",
              "      <td>6549.15</td>\n",
              "      <td>6564.92</td>\n",
              "      <td>6541.00</td>\n",
              "      <td>6564.85</td>\n",
              "      <td>255.916387</td>\n",
              "    </tr>\n",
              "    <tr>\n",
              "      <th>2018-10-01 16:30:00</th>\n",
              "      <td>6561.10</td>\n",
              "      <td>6602.18</td>\n",
              "      <td>6561.10</td>\n",
              "      <td>6602.18</td>\n",
              "      <td>575.218498</td>\n",
              "    </tr>\n",
              "    <tr>\n",
              "      <th>2018-10-01 16:45:00</th>\n",
              "      <td>6599.38</td>\n",
              "      <td>6603.41</td>\n",
              "      <td>6585.40</td>\n",
              "      <td>6592.00</td>\n",
              "      <td>365.847377</td>\n",
              "    </tr>\n",
              "    <tr>\n",
              "      <th>2018-10-01 17:00:00</th>\n",
              "      <td>6592.03</td>\n",
              "      <td>6606.68</td>\n",
              "      <td>6582.49</td>\n",
              "      <td>6594.70</td>\n",
              "      <td>216.743288</td>\n",
              "    </tr>\n",
              "    <tr>\n",
              "      <th>2018-10-01 17:15:00</th>\n",
              "      <td>6592.91</td>\n",
              "      <td>6594.91</td>\n",
              "      <td>6580.73</td>\n",
              "      <td>6585.13</td>\n",
              "      <td>125.430835</td>\n",
              "    </tr>\n",
              "  </tbody>\n",
              "</table>\n",
              "<p>34892 rows × 5 columns</p>\n",
              "</div>"
            ],
            "text/plain": [
              "                        Open     High      Low    Close      Volume\n",
              "Open time                                                          \n",
              "2017-10-01 00:00:00  4378.49  4378.49  4339.00  4360.00   13.195468\n",
              "2017-10-01 00:15:00  4345.15  4377.84  4340.01  4340.01    6.364818\n",
              "2017-10-01 00:30:00  4340.01  4360.00  4337.00  4340.00   16.289272\n",
              "2017-10-01 00:45:00  4340.00  4360.00  4337.00  4345.95   13.121092\n",
              "2017-10-01 01:00:00  4350.00  4350.00  4320.05  4344.95    5.489526\n",
              "...                      ...      ...      ...      ...         ...\n",
              "2018-10-01 16:15:00  6549.15  6564.92  6541.00  6564.85  255.916387\n",
              "2018-10-01 16:30:00  6561.10  6602.18  6561.10  6602.18  575.218498\n",
              "2018-10-01 16:45:00  6599.38  6603.41  6585.40  6592.00  365.847377\n",
              "2018-10-01 17:00:00  6592.03  6606.68  6582.49  6594.70  216.743288\n",
              "2018-10-01 17:15:00  6592.91  6594.91  6580.73  6585.13  125.430835\n",
              "\n",
              "[34892 rows x 5 columns]"
            ]
          },
          "metadata": {},
          "execution_count": 12
        }
      ]
    },
    {
      "cell_type": "code",
      "source": [
        "line_plot(train[target_col], test[target_col], 'training', 'test', title='')"
      ],
      "metadata": {
        "colab": {
          "base_uri": "https://localhost:8080/",
          "height": 428
        },
        "id": "LccfC6y6hKpx",
        "outputId": "cc4e639f-a9f5-43e7-f73b-1512b146d049"
      },
      "execution_count": 13,
      "outputs": [
        {
          "output_type": "display_data",
          "data": {
            "image/png": "[encoded data removed]",
            "text/plain": [
              "<Figure size 936x504 with 1 Axes>"
            ]
          },
          "metadata": {
            "needs_background": "light"
          }
        }
      ]
    },
    {
      "cell_type": "code",
      "source": [
        "def normalise_zero_base(df):\n",
        "    return df/df.max()"
      ],
      "metadata": {
        "id": "73I4BoaVjk86"
      },
      "execution_count": 14,
      "outputs": []
    },
    {
      "cell_type": "code",
      "source": [
        "def normalise_min_max(df):\n",
        "    return (df - df.min()) / (df.max() - df.min())"
      ],
      "metadata": {
        "id": "A_NCdRqCj3ZA"
      },
      "execution_count": 15,
      "outputs": []
    },
    {
      "cell_type": "code",
      "source": [
        "def extract_window_data(df, window_len=20, zero_base=True):\n",
        "    window_data = []\n",
        "    for idx in range(len(df) - window_len):\n",
        "        tmp = df[idx: (idx + window_len)].copy()\n",
        "        if zero_base:\n",
        "            tmp = normalise_zero_base(tmp)\n",
        "        window_data.append(tmp.values)\n",
        "    return np.array(window_data)"
      ],
      "metadata": {
        "id": "y_O3aIAYj5-Y"
      },
      "execution_count": 16,
      "outputs": []
    },
    {
      "cell_type": "code",
      "source": [
        "def prepare_data(df, target_col, window_len=10, zero_base=True, test_size=0.2):\n",
        "    train_data, test_data = train_test_split(df, test_size=test_size)\n",
        "    X_train = extract_window_data(train_data, window_len, zero_base)\n",
        "    X_test = extract_window_data(test_data, window_len, zero_base)\n",
        "    y_train = train_data[target_col][window_len:].values\n",
        "    y_test = test_data[target_col][window_len:].values\n",
        "    if zero_base:\n",
        "        y_train = y_train / train_data[target_col][:-window_len].values - 1\n",
        "        y_test = y_test / test_data[target_col][:-window_len].values - 1\n",
        "\n",
        "    return train_data, test_data, X_train, X_test, y_train, y_test"
      ],
      "metadata": {
        "id": "JF8xENwjj75W"
      },
      "execution_count": 17,
      "outputs": []
    },
    {
      "cell_type": "code",
      "source": [
        "window_len = 20\n",
        "test_size = 0.2\n",
        "zero_base = True\n",
        "lstm_neurons = 32\n",
        "epochs = 100\n",
        "batch_size = 32\n",
        "loss = 'mse'\n",
        "dropout = 0.2\n",
        "optimizer = 'Nadam'"
      ],
      "metadata": {
        "id": "Wq01dDvDj9_H"
      },
      "execution_count": 54,
      "outputs": []
    },
    {
      "cell_type": "code",
      "source": [
        "train, test, X_train, X_test, y_train, y_test = prepare_data(hist, target_col, window_len=window_len, zero_base=zero_base, test_size=test_size)"
      ],
      "metadata": {
        "id": "I4oJNuWrkAmw"
      },
      "execution_count": 55,
      "outputs": []
    },
    {
      "cell_type": "code",
      "source": [
        "def build_lstm_model(input_data, output_size, neurons=100, activ_func='linear',\n",
        "                     dropout=0.2, loss='mse', optimizer='adam'):\n",
        "    model = Sequential()\n",
        "    model.add(GRU(neurons, input_shape=(input_data.shape[1], input_data.shape[2])))\n",
        "    model.add(Dropout(dropout))\n",
        "    model.add(Dense(units=output_size))\n",
        "    model.add(Activation(activ_func))\n",
        "    opt = SGD(lr=0.01, momentum=0.9, clipnorm=1.0)\n",
        "\n",
        "    model.compile(loss=loss, optimizer=optimizer)\n",
        "    return model"
      ],
      "metadata": {
        "id": "n3ep4we0kDI_"
      },
      "execution_count": 56,
      "outputs": []
    },
    {
      "cell_type": "code",
      "source": [
        "model = build_lstm_model(\n",
        "    X_train, output_size=1, neurons=lstm_neurons, dropout=dropout, loss=loss,\n",
        "    optimizer=optimizer)\n",
        "model.summary()"
      ],
      "metadata": {
        "colab": {
          "base_uri": "https://localhost:8080/"
        },
        "id": "x_wvS6EakMWS",
        "outputId": "f4d2c7ff-5415-4ea8-b5b6-a6389e2ca1cf"
      },
      "execution_count": 57,
      "outputs": [
        {
          "output_type": "stream",
          "name": "stdout",
          "text": [
            "Model: \"sequential_4\"\n",
            "_________________________________________________________________\n",
            " Layer (type)                Output Shape              Param #   \n",
            "=================================================================\n",
            " gru_4 (GRU)                 (None, 32)                3744      \n",
            "                                                                 \n",
            " dropout_4 (Dropout)         (None, 32)                0         \n",
            "                                                                 \n",
            " dense_4 (Dense)             (None, 1)                 33        \n",
            "                                                                 \n",
            " activation_4 (Activation)   (None, 1)                 0         \n",
            "                                                                 \n",
            "=================================================================\n",
            "Total params: 3,777\n",
            "Trainable params: 3,777\n",
            "Non-trainable params: 0\n",
            "_________________________________________________________________\n"
          ]
        },
        {
          "output_type": "stream",
          "name": "stderr",
          "text": [
            "/usr/local/lib/python3.7/dist-packages/keras/optimizer_v2/gradient_descent.py:102: UserWarning: The `lr` argument is deprecated, use `learning_rate` instead.\n",
            "  super(SGD, self).__init__(name, **kwargs)\n"
          ]
        }
      ]
    },
    {
      "cell_type": "code",
      "source": [
        "history = model.fit(\n",
        "    X_train, y_train, epochs=epochs, batch_size=batch_size, verbose=1, shuffle=True)"
      ],
      "metadata": {
        "colab": {
          "base_uri": "https://localhost:8080/"
        },
        "id": "3yZSJrxskOoq",
        "outputId": "29a9016d-5aaa-482a-b6bf-86f88ce26f73"
      },
      "execution_count": 58,
      "outputs": [
        {
          "output_type": "stream",
          "name": "stdout",
          "text": [
            "Epoch 1/100\n",
            "1090/1090 [==============================] - 11s 8ms/step - loss: 0.0038\n",
            "Epoch 2/100\n",
            "1090/1090 [==============================] - 8s 8ms/step - loss: 6.2024e-04\n",
            "Epoch 3/100\n",
            "1090/1090 [==============================] - 8s 7ms/step - loss: 5.2168e-04\n",
            "Epoch 4/100\n",
            "1090/1090 [==============================] - 8s 7ms/step - loss: 4.4594e-04\n",
            "Epoch 5/100\n",
            "1090/1090 [==============================] - 8s 8ms/step - loss: 3.4536e-04\n",
            "Epoch 6/100\n",
            "1090/1090 [==============================] - 8s 7ms/step - loss: 1.9907e-04\n",
            "Epoch 7/100\n",
            "1090/1090 [==============================] - 8s 8ms/step - loss: 1.4073e-04\n",
            "Epoch 8/100\n",
            "1090/1090 [==============================] - 9s 9ms/step - loss: 1.2195e-04\n",
            "Epoch 9/100\n",
            "1090/1090 [==============================] - 8s 7ms/step - loss: 1.0837e-04\n",
            "Epoch 10/100\n",
            "1090/1090 [==============================] - 8s 8ms/step - loss: 9.7539e-05\n",
            "Epoch 11/100\n",
            "1090/1090 [==============================] - 8s 8ms/step - loss: 8.7633e-05\n",
            "Epoch 12/100\n",
            "1090/1090 [==============================] - 8s 8ms/step - loss: 8.3349e-05\n",
            "Epoch 13/100\n",
            "1090/1090 [==============================] - 8s 8ms/step - loss: 7.9723e-05\n",
            "Epoch 14/100\n",
            "1090/1090 [==============================] - 8s 8ms/step - loss: 7.5251e-05\n",
            "Epoch 15/100\n",
            "1090/1090 [==============================] - 9s 8ms/step - loss: 7.3390e-05\n",
            "Epoch 16/100\n",
            "1090/1090 [==============================] - 8s 8ms/step - loss: 7.1378e-05\n",
            "Epoch 17/100\n",
            "1090/1090 [==============================] - 8s 7ms/step - loss: 7.0284e-05\n",
            "Epoch 18/100\n",
            "1090/1090 [==============================] - 8s 7ms/step - loss: 6.8689e-05\n",
            "Epoch 19/100\n",
            "1090/1090 [==============================] - 8s 8ms/step - loss: 6.7647e-05\n",
            "Epoch 20/100\n",
            "1090/1090 [==============================] - 8s 7ms/step - loss: 6.5454e-05\n",
            "Epoch 21/100\n",
            "1090/1090 [==============================] - 8s 7ms/step - loss: 6.5817e-05\n",
            "Epoch 22/100\n",
            "1090/1090 [==============================] - 8s 7ms/step - loss: 6.5357e-05\n",
            "Epoch 23/100\n",
            "1090/1090 [==============================] - 8s 7ms/step - loss: 6.4127e-05\n",
            "Epoch 24/100\n",
            "1090/1090 [==============================] - 8s 7ms/step - loss: 6.2924e-05\n",
            "Epoch 25/100\n",
            "1090/1090 [==============================] - 8s 7ms/step - loss: 6.1893e-05\n",
            "Epoch 26/100\n",
            "1090/1090 [==============================] - 8s 7ms/step - loss: 6.0618e-05\n",
            "Epoch 27/100\n",
            "1090/1090 [==============================] - 8s 7ms/step - loss: 6.1147e-05\n",
            "Epoch 28/100\n",
            "1090/1090 [==============================] - 8s 7ms/step - loss: 5.9120e-05\n",
            "Epoch 29/100\n",
            "1090/1090 [==============================] - 8s 7ms/step - loss: 5.9524e-05\n",
            "Epoch 30/100\n",
            "1090/1090 [==============================] - 8s 8ms/step - loss: 5.9091e-05\n",
            "Epoch 31/100\n",
            "1090/1090 [==============================] - 8s 7ms/step - loss: 5.8345e-05\n",
            "Epoch 32/100\n",
            "1090/1090 [==============================] - 8s 7ms/step - loss: 5.8084e-05\n",
            "Epoch 33/100\n",
            "1090/1090 [==============================] - 8s 7ms/step - loss: 5.7527e-05\n",
            "Epoch 34/100\n",
            "1090/1090 [==============================] - 8s 8ms/step - loss: 5.5662e-05\n",
            "Epoch 35/100\n",
            "1090/1090 [==============================] - 8s 8ms/step - loss: 5.6564e-05\n",
            "Epoch 36/100\n",
            "1090/1090 [==============================] - 8s 8ms/step - loss: 5.6104e-05\n",
            "Epoch 37/100\n",
            "1090/1090 [==============================] - 8s 8ms/step - loss: 5.5428e-05\n",
            "Epoch 38/100\n",
            "1090/1090 [==============================] - 8s 8ms/step - loss: 5.5112e-05\n",
            "Epoch 39/100\n",
            "1090/1090 [==============================] - 8s 8ms/step - loss: 5.5309e-05\n",
            "Epoch 40/100\n",
            "1090/1090 [==============================] - 8s 8ms/step - loss: 5.3970e-05\n",
            "Epoch 41/100\n",
            "1090/1090 [==============================] - 8s 8ms/step - loss: 5.4528e-05\n",
            "Epoch 42/100\n",
            "1090/1090 [==============================] - 8s 8ms/step - loss: 5.3465e-05\n",
            "Epoch 43/100\n",
            "1090/1090 [==============================] - 8s 8ms/step - loss: 5.3371e-05\n",
            "Epoch 44/100\n",
            "1090/1090 [==============================] - 8s 8ms/step - loss: 5.2994e-05\n",
            "Epoch 45/100\n",
            "1090/1090 [==============================] - 8s 8ms/step - loss: 5.2110e-05\n",
            "Epoch 46/100\n",
            "1090/1090 [==============================] - 8s 8ms/step - loss: 5.3607e-05\n",
            "Epoch 47/100\n",
            "1090/1090 [==============================] - 8s 8ms/step - loss: 5.2916e-05\n",
            "Epoch 48/100\n",
            "1090/1090 [==============================] - 8s 8ms/step - loss: 5.2458e-05\n",
            "Epoch 49/100\n",
            "1090/1090 [==============================] - 8s 8ms/step - loss: 5.1403e-05\n",
            "Epoch 50/100\n",
            "1090/1090 [==============================] - 8s 8ms/step - loss: 5.2383e-05\n",
            "Epoch 51/100\n",
            "1090/1090 [==============================] - 8s 7ms/step - loss: 5.2429e-05\n",
            "Epoch 52/100\n",
            "1090/1090 [==============================] - 8s 7ms/step - loss: 5.0578e-05\n",
            "Epoch 53/100\n",
            "1090/1090 [==============================] - 8s 7ms/step - loss: 5.2165e-05\n",
            "Epoch 54/100\n",
            "1090/1090 [==============================] - 8s 7ms/step - loss: 5.1278e-05\n",
            "Epoch 55/100\n",
            "1090/1090 [==============================] - 8s 8ms/step - loss: 5.1685e-05\n",
            "Epoch 56/100\n",
            "1090/1090 [==============================] - 8s 8ms/step - loss: 5.0827e-05\n",
            "Epoch 57/100\n",
            "1090/1090 [==============================] - 8s 8ms/step - loss: 5.1252e-05\n",
            "Epoch 58/100\n",
            "1090/1090 [==============================] - 8s 8ms/step - loss: 5.1082e-05\n",
            "Epoch 59/100\n",
            "1090/1090 [==============================] - 8s 8ms/step - loss: 5.1495e-05\n",
            "Epoch 60/100\n",
            "1090/1090 [==============================] - 9s 8ms/step - loss: 5.1555e-05\n",
            "Epoch 61/100\n",
            "1090/1090 [==============================] - 8s 8ms/step - loss: 5.1093e-05\n",
            "Epoch 62/100\n",
            "1090/1090 [==============================] - 8s 7ms/step - loss: 5.0453e-05\n",
            "Epoch 63/100\n",
            "1090/1090 [==============================] - 8s 8ms/step - loss: 5.0599e-05\n",
            "Epoch 64/100\n",
            "1090/1090 [==============================] - 8s 8ms/step - loss: 5.0284e-05\n",
            "Epoch 65/100\n",
            "1090/1090 [==============================] - 8s 8ms/step - loss: 5.0381e-05\n",
            "Epoch 66/100\n",
            "1090/1090 [==============================] - 8s 8ms/step - loss: 5.0019e-05\n",
            "Epoch 67/100\n",
            "1090/1090 [==============================] - 8s 8ms/step - loss: 5.0066e-05\n",
            "Epoch 68/100\n",
            "1090/1090 [==============================] - 8s 8ms/step - loss: 4.9955e-05\n",
            "Epoch 69/100\n",
            "1090/1090 [==============================] - 8s 7ms/step - loss: 5.0239e-05\n",
            "Epoch 70/100\n",
            "1090/1090 [==============================] - 8s 8ms/step - loss: 4.9783e-05\n",
            "Epoch 71/100\n",
            "1090/1090 [==============================] - 8s 8ms/step - loss: 4.9681e-05\n",
            "Epoch 72/100\n",
            "1090/1090 [==============================] - 9s 8ms/step - loss: 4.9561e-05\n",
            "Epoch 73/100\n",
            "1090/1090 [==============================] - 8s 8ms/step - loss: 5.0236e-05\n",
            "Epoch 74/100\n",
            "1090/1090 [==============================] - 8s 8ms/step - loss: 4.9830e-05\n",
            "Epoch 75/100\n",
            "1090/1090 [==============================] - 8s 8ms/step - loss: 5.0030e-05\n",
            "Epoch 76/100\n",
            "1090/1090 [==============================] - 8s 7ms/step - loss: 4.9756e-05\n",
            "Epoch 77/100\n",
            "1090/1090 [==============================] - 8s 8ms/step - loss: 5.0408e-05\n",
            "Epoch 78/100\n",
            "1090/1090 [==============================] - 8s 8ms/step - loss: 4.9074e-05\n",
            "Epoch 79/100\n",
            "1090/1090 [==============================] - 8s 8ms/step - loss: 4.9921e-05\n",
            "Epoch 80/100\n",
            "1090/1090 [==============================] - 8s 8ms/step - loss: 4.9522e-05\n",
            "Epoch 81/100\n",
            "1090/1090 [==============================] - 8s 8ms/step - loss: 4.9700e-05\n",
            "Epoch 82/100\n",
            "1090/1090 [==============================] - 8s 8ms/step - loss: 4.9699e-05\n",
            "Epoch 83/100\n",
            "1090/1090 [==============================] - 8s 8ms/step - loss: 4.9033e-05\n",
            "Epoch 84/100\n",
            "1090/1090 [==============================] - 8s 8ms/step - loss: 4.8913e-05\n",
            "Epoch 85/100\n",
            "1090/1090 [==============================] - 8s 8ms/step - loss: 4.9150e-05\n",
            "Epoch 86/100\n",
            "1090/1090 [==============================] - 8s 8ms/step - loss: 4.8680e-05\n",
            "Epoch 87/100\n",
            "1090/1090 [==============================] - 9s 8ms/step - loss: 4.9276e-05\n",
            "Epoch 88/100\n",
            "1090/1090 [==============================] - 9s 8ms/step - loss: 4.8907e-05\n",
            "Epoch 89/100\n",
            "1090/1090 [==============================] - 9s 8ms/step - loss: 5.0045e-05\n",
            "Epoch 90/100\n",
            "1090/1090 [==============================] - 9s 8ms/step - loss: 4.8710e-05\n",
            "Epoch 91/100\n",
            "1090/1090 [==============================] - 9s 8ms/step - loss: 4.9212e-05\n",
            "Epoch 92/100\n",
            "1090/1090 [==============================] - 8s 8ms/step - loss: 4.8436e-05\n",
            "Epoch 93/100\n",
            "1090/1090 [==============================] - 8s 8ms/step - loss: 4.8579e-05\n",
            "Epoch 94/100\n",
            "1090/1090 [==============================] - 9s 8ms/step - loss: 4.8530e-05\n",
            "Epoch 95/100\n",
            "1090/1090 [==============================] - 9s 8ms/step - loss: 4.8445e-05\n",
            "Epoch 96/100\n",
            "1090/1090 [==============================] - 9s 8ms/step - loss: 4.8066e-05\n",
            "Epoch 97/100\n",
            "1090/1090 [==============================] - 8s 8ms/step - loss: 4.9531e-05\n",
            "Epoch 98/100\n",
            "1090/1090 [==============================] - 9s 8ms/step - loss: 4.9057e-05\n",
            "Epoch 99/100\n",
            "1090/1090 [==============================] - 9s 8ms/step - loss: 4.8636e-05\n",
            "Epoch 100/100\n",
            "1090/1090 [==============================] - 9s 8ms/step - loss: 4.7967e-05\n"
          ]
        }
      ]
    },
    {
      "cell_type": "code",
      "source": [
        "targets = test[target_col][window_len:]\n",
        "preds = model.predict(X_test).squeeze()\n",
        "mean_absolute_error(preds, y_test)"
      ],
      "metadata": {
        "colab": {
          "base_uri": "https://localhost:8080/"
        },
        "id": "05oRRZ45kRIs",
        "outputId": "ce017999-4410-4ebd-f919-7c4b36b66888"
      },
      "execution_count": 59,
      "outputs": [
        {
          "output_type": "execute_result",
          "data": {
            "text/plain": [
              "0.002824447023115409"
            ]
          },
          "metadata": {},
          "execution_count": 59
        }
      ]
    },
    {
      "cell_type": "code",
      "source": [
        "preds = test[target_col].values[:-window_len] * (preds + 1)\n",
        "preds = pd.Series(index=targets.index, data=preds)"
      ],
      "metadata": {
        "id": "X66lwP_ukRw8"
      },
      "execution_count": 60,
      "outputs": []
    },
    {
      "cell_type": "code",
      "source": [
        "line_plot(targets, preds, 'actual', 'prediction', lw=3)\n"
      ],
      "metadata": {
        "colab": {
          "base_uri": "https://localhost:8080/",
          "height": 428
        },
        "id": "kfjpnLatjBWX",
        "outputId": "75b977e9-fd0c-4558-93bb-65d8321ac218"
      },
      "execution_count": 61,
      "outputs": [
        {
          "output_type": "display_data",
          "data": {
            "image/png": "[encoded data removed]",
            "text/plain": [
              "<Figure size 936x504 with 1 Axes>"
            ]
          },
          "metadata": {
            "needs_background": "light"
          }
        }
      ]
    },
    {
      "cell_type": "code",
      "source": [
        "line_plot(targets[:500], preds[:500], 'actual', 'prediction', lw=3)\n"
      ],
      "metadata": {
        "colab": {
          "base_uri": "https://localhost:8080/",
          "height": 428
        },
        "id": "8atGka_alOrb",
        "outputId": "1097909c-08e0-4e34-f40c-19b0718c57a4"
      },
      "execution_count": 62,
      "outputs": [
        {
          "output_type": "display_data",
          "data": {
            "image/png": "[encoded data removed]",
            "text/plain": [
              "<Figure size 936x504 with 1 Axes>"
            ]
          },
          "metadata": {
            "needs_background": "light"
          }
        }
      ]
    },
    {
      "cell_type": "code",
      "source": [
        "from sklearn.metrics import mean_squared_error\n",
        "rmse = mean_squared_error(targets, preds , squared=False)\n",
        "print(\"rmse: \" +str(rmse))"
      ],
      "metadata": {
        "colab": {
          "base_uri": "https://localhost:8080/"
        },
        "id": "5zmnLy0GYeYf",
        "outputId": "190c3d3c-1d13-4a2d-beff-70526e5ecf98"
      },
      "execution_count": 63,
      "outputs": [
        {
          "output_type": "stream",
          "name": "stdout",
          "text": [
            "rmse: 20.72034412029205\n"
          ]
        }
      ]
    },
    {
      "cell_type": "code",
      "source": [
        "from sklearn.metrics import mean_squared_error\n",
        "mse = mean_squared_error(targets, preds , squared=True)\n",
        "print(\"mse: \" +str(mse))"
      ],
      "metadata": {
        "colab": {
          "base_uri": "https://localhost:8080/"
        },
        "id": "aFE96WIcdtf4",
        "outputId": "ac6c1d87-1479-4101-c3a9-0dfca61a729a"
      },
      "execution_count": 64,
      "outputs": [
        {
          "output_type": "stream",
          "name": "stdout",
          "text": [
            "mse: 429.3326604633214\n"
          ]
        }
      ]
    },
    {
      "cell_type": "code",
      "source": [
        "mape=sum(abs((targets-preds)/targets))/len(targets)\n",
        "print(\"mape: \" +str(mape))"
      ],
      "metadata": {
        "colab": {
          "base_uri": "https://localhost:8080/"
        },
        "id": "1n2Fwby-b3ms",
        "outputId": "819ffd71-23b7-408c-e585-1f2f7b690fe9"
      },
      "execution_count": 65,
      "outputs": [
        {
          "output_type": "stream",
          "name": "stdout",
          "text": [
            "mape: 0.0028271886675414384\n"
          ]
        }
      ]
    },
    {
      "cell_type": "code",
      "source": [
        ""
      ],
      "metadata": {
        "id": "e2UphlW9eEMP"
      },
      "execution_count": 65,
      "outputs": []
    }
  ]
}