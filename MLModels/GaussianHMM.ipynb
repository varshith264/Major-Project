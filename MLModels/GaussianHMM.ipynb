{
  "cells": [
    {
      "cell_type": "code",
      "execution_count": null,
      "metadata": {
        "colab": {
          "base_uri": "https://localhost:8080/"
        },
        "id": "Ulrz9RyE7Yc7",
        "outputId": "f17b6973-ea1b-44ab-cf15-9543707528e6"
      },
      "outputs": [
        {
          "name": "stdout",
          "output_type": "stream",
          "text": [
            "Mounted at /content/drive\n"
          ]
        }
      ],
      "source": [
        "from google.colab import drive\n",
        "drive.mount('/content/drive')"
      ]
    },
    {
      "cell_type": "code",
      "execution_count": null,
      "metadata": {
        "colab": {
          "base_uri": "https://localhost:8080/"
        },
        "id": "Va2fwVkr8DPI",
        "outputId": "bea9acd7-808b-45b7-e654-594b14c8a87d"
      },
      "outputs": [
        {
          "name": "stdout",
          "output_type": "stream",
          "text": [
            "Collecting hmmlearn\n",
            "  Downloading hmmlearn-0.2.6-cp37-cp37m-manylinux_2_5_x86_64.manylinux1_x86_64.whl (374 kB)\n",
            "\u001b[?25l\r\u001b[K     |▉                               | 10 kB 28.3 MB/s eta 0:00:01\r\u001b[K     |█▊                              | 20 kB 20.6 MB/s eta 0:00:01\r\u001b[K     |██▋                             | 30 kB 11.0 MB/s eta 0:00:01\r\u001b[K     |███▌                            | 40 kB 8.6 MB/s eta 0:00:01\r\u001b[K     |████▍                           | 51 kB 5.2 MB/s eta 0:00:01\r\u001b[K     |█████▎                          | 61 kB 5.4 MB/s eta 0:00:01\r\u001b[K     |██████▏                         | 71 kB 5.3 MB/s eta 0:00:01\r\u001b[K     |███████                         | 81 kB 6.0 MB/s eta 0:00:01\r\u001b[K     |███████▉                        | 92 kB 6.1 MB/s eta 0:00:01\r\u001b[K     |████████▊                       | 102 kB 5.1 MB/s eta 0:00:01\r\u001b[K     |█████████▋                      | 112 kB 5.1 MB/s eta 0:00:01\r\u001b[K     |██████████▌                     | 122 kB 5.1 MB/s eta 0:00:01\r\u001b[K     |███████████▍                    | 133 kB 5.1 MB/s eta 0:00:01\r\u001b[K     |████████████▎                   | 143 kB 5.1 MB/s eta 0:00:01\r\u001b[K     |█████████████▏                  | 153 kB 5.1 MB/s eta 0:00:01\r\u001b[K     |██████████████                  | 163 kB 5.1 MB/s eta 0:00:01\r\u001b[K     |██████████████▉                 | 174 kB 5.1 MB/s eta 0:00:01\r\u001b[K     |███████████████▊                | 184 kB 5.1 MB/s eta 0:00:01\r\u001b[K     |████████████████▋               | 194 kB 5.1 MB/s eta 0:00:01\r\u001b[K     |█████████████████▌              | 204 kB 5.1 MB/s eta 0:00:01\r\u001b[K     |██████████████████▍             | 215 kB 5.1 MB/s eta 0:00:01\r\u001b[K     |███████████████████▎            | 225 kB 5.1 MB/s eta 0:00:01\r\u001b[K     |████████████████████            | 235 kB 5.1 MB/s eta 0:00:01\r\u001b[K     |█████████████████████           | 245 kB 5.1 MB/s eta 0:00:01\r\u001b[K     |█████████████████████▉          | 256 kB 5.1 MB/s eta 0:00:01\r\u001b[K     |██████████████████████▊         | 266 kB 5.1 MB/s eta 0:00:01\r\u001b[K     |███████████████████████▋        | 276 kB 5.1 MB/s eta 0:00:01\r\u001b[K     |████████████████████████▌       | 286 kB 5.1 MB/s eta 0:00:01\r\u001b[K     |█████████████████████████▍      | 296 kB 5.1 MB/s eta 0:00:01\r\u001b[K     |██████████████████████████▎     | 307 kB 5.1 MB/s eta 0:00:01\r\u001b[K     |███████████████████████████     | 317 kB 5.1 MB/s eta 0:00:01\r\u001b[K     |████████████████████████████    | 327 kB 5.1 MB/s eta 0:00:01\r\u001b[K     |████████████████████████████▉   | 337 kB 5.1 MB/s eta 0:00:01\r\u001b[K     |█████████████████████████████▊  | 348 kB 5.1 MB/s eta 0:00:01\r\u001b[K     |██████████████████████████████▋ | 358 kB 5.1 MB/s eta 0:00:01\r\u001b[K     |███████████████████████████████▌| 368 kB 5.1 MB/s eta 0:00:01\r\u001b[K     |████████████████████████████████| 374 kB 5.1 MB/s \n",
            "\u001b[?25hRequirement already satisfied: numpy>=1.10 in /usr/local/lib/python3.7/dist-packages (from hmmlearn) (1.19.5)\n",
            "Requirement already satisfied: scikit-learn>=0.16 in /usr/local/lib/python3.7/dist-packages (from hmmlearn) (1.0.2)\n",
            "Requirement already satisfied: scipy>=0.19 in /usr/local/lib/python3.7/dist-packages (from hmmlearn) (1.4.1)\n",
            "Requirement already satisfied: joblib>=0.11 in /usr/local/lib/python3.7/dist-packages (from scikit-learn>=0.16->hmmlearn) (1.1.0)\n",
            "Requirement already satisfied: threadpoolctl>=2.0.0 in /usr/local/lib/python3.7/dist-packages (from scikit-learn>=0.16->hmmlearn) (3.0.0)\n",
            "Installing collected packages: hmmlearn\n",
            "Successfully installed hmmlearn-0.2.6\n"
          ]
        }
      ],
      "source": [
        "!pip install hmmlearn  "
      ]
    },
    {
      "cell_type": "code",
      "execution_count": null,
      "metadata": {
        "id": "wnrbDTi6d2sf"
      },
      "outputs": [],
      "source": [
        "import itertools\n",
        "import pandas as pd\n",
        "import numpy as np\n",
        "import matplotlib.pyplot as plt\n",
        "from hmmlearn.hmm import GaussianHMM, GMMHMM\n",
        "from sklearn.model_selection import train_test_split\n",
        "from tqdm import tqdm "
      ]
    },
    {
      "cell_type": "code",
      "execution_count": null,
      "metadata": {
        "id": "Gsqr5tNmsFU8"
      },
      "outputs": [],
      "source": [
        "data = pd.read_csv('/content/drive/MyDrive/S7 Project/BTC.csv')\n",
        "data = data[4278:47892]"
      ]
    },
    {
      "cell_type": "code",
      "execution_count": null,
      "metadata": {
        "id": "Lj5fgu0osHzI"
      },
      "outputs": [],
      "source": [
        "train_data, test_data = train_test_split(data, test_size=0.2, shuffle=False)"
      ]
    },
    {
      "cell_type": "code",
      "execution_count": null,
      "metadata": {
        "id": "vyD6zf5ysKc2"
      },
      "outputs": [],
      "source": [
        "# extracting features\n",
        "def extract_features(data):\n",
        "    open_price = np.array(data['Open'])\n",
        "    close_price = np.array(data['Close'])\n",
        "    high_price = np.array(data['High'])\n",
        "    low_price = np.array(data['Low'])\n",
        "    frac_change = (close_price - open_price) / open_price\n",
        "    frac_high = (high_price - open_price) / open_price\n",
        "    frac_low = (open_price - low_price) / open_price\n",
        "    return np.column_stack((frac_change, frac_high, frac_low))\n"
      ]
    },
    {
      "cell_type": "code",
      "execution_count": null,
      "metadata": {
        "id": "srah6apnsMyt"
      },
      "outputs": [],
      "source": [
        "def get_most_probable_outcome(day_index):\n",
        "    previous_data_start_index = max(0, day_index - 20)\n",
        "    previous_data_end_index = max(0, day_index - 1)\n",
        "    previous_data = test_data.iloc[previous_data_end_index: previous_data_start_index]\n",
        "    previous_data_features = extract_features(previous_data)\n",
        "\n",
        "    outcome_score = []\n",
        "    for possible_outcome in possible_outcomes:\n",
        "        total_data = np.row_stack(\n",
        "            (previous_data_features, possible_outcome))\n",
        "        outcome_score.append(model.score(total_data))\n",
        "    most_probable_outcome = possible_outcomes[np.argmax(\n",
        "        outcome_score)]\n",
        "\n",
        "    return most_probable_outcome"
      ]
    },
    {
      "cell_type": "code",
      "execution_count": null,
      "metadata": {
        "id": "gFpe5xi1sTP6"
      },
      "outputs": [],
      "source": [
        "#All possible outcomes\n",
        "frac_change_range = np.linspace(-0.1, 0.1, 60)\n",
        "frac_high_range = np.linspace(0, 0.1, 10)\n",
        "frac_low_range = np.linspace(0, 0.1, 10)\n",
        "possible_outcomes = np.array(list(itertools.product(\n",
        "    frac_change_range, frac_high_range, frac_low_range)))\n"
      ]
    },
    {
      "cell_type": "code",
      "execution_count": null,
      "metadata": {
        "id": "RtDQXgzLsUnE"
      },
      "outputs": [],
      "source": [
        "model = GMMHMM(n_components=4)\n",
        "model.fit(extract_features(data))"
      ]
    },
    {
      "cell_type": "code",
      "execution_count": null,
      "metadata": {
        "id": "qHFIRqsfsWX5"
      },
      "outputs": [],
      "source": [
        "predicted = []\n",
        "actual=test_data.Close.tolist()\n",
        "for day_index in tqdm(range(len(actual))):\n",
        "  open_price = test_data.iloc[day_index]['Open']\n",
        "  predicted_frac_change, _, _ = get_most_probable_outcome(day_index)\n",
        "  predicted.append(open_price * (1 + predicted_frac_change))\n"
      ]
    },
    {
      "cell_type": "code",
      "execution_count": null,
      "metadata": {
        "id": "sFTKvAbBTFdg"
      },
      "outputs": [],
      "source": []
    }
  ],
  "metadata": {
    "accelerator": "GPU",
    "colab": {
      "collapsed_sections": [],
      "name": "GaussianHMM",
      "provenance": []
    },
    "kernelspec": {
      "display_name": "Python 3",
      "name": "python3"
    }
  },
  "nbformat": 4,
  "nbformat_minor": 0
}
